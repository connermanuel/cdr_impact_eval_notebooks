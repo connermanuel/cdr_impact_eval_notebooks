{
 "cells": [
  {
   "cell_type": "code",
   "execution_count": 1,
   "metadata": {},
   "outputs": [],
   "source": [
    "!export SPARK_LOCAL_DIRS=\"/data/tmp/conner\"\n",
    "!export PYSPARK_PYTHON=\"/home/connermanuel/.cache/pypoetry/virtualenvs/cider-pYyYiFm9-py3.8/bin/python\"\n",
    "!export PYSPARK_DRIVER_PYTHON=\"/home/connermanuel/.cache/pypoetry/virtualenvs/cider-pYyYiFm9-py3.8/bin/python\""
   ]
  },
  {
   "cell_type": "code",
   "execution_count": 2,
   "metadata": {
    "scrolled": true
   },
   "outputs": [],
   "source": [
    "from cider.featurizer import Featurizer\n",
    "from cider.datastore import DataStore\n",
    "import pandas as pd\n",
    "import pyspark"
   ]
  },
  {
   "cell_type": "code",
   "execution_count": 3,
   "metadata": {},
   "outputs": [
    {
     "name": "stderr",
     "output_type": "stream",
     "text": [
      "WARNING: An illegal reflective access operation has occurred\n",
      "WARNING: Illegal reflective access by org.apache.spark.unsafe.Platform (file:/home/connermanuel/.cache/pypoetry/virtualenvs/cider-pYyYiFm9-py3.8/lib/python3.8/site-packages/pyspark/jars/spark-unsafe_2.12-3.2.1.jar) to constructor java.nio.DirectByteBuffer(long,int)\n",
      "WARNING: Please consider reporting this to the maintainers of org.apache.spark.unsafe.Platform\n",
      "WARNING: Use --illegal-access=warn to enable warnings of further illegal reflective access operations\n",
      "WARNING: All illegal access operations will be denied in a future release\n",
      "Using Spark's default log4j profile: org/apache/spark/log4j-defaults.properties\n",
      "Setting default log level to \"WARN\".\n",
      "To adjust logging level use sc.setLogLevel(newLevel). For SparkR, use setLogLevel(newLevel).\n",
      "22/05/05 13:00:08 WARN NativeCodeLoader: Unable to load native-hadoop library for your platform... using builtin-java classes where applicable\n"
     ]
    }
   ],
   "source": [
    "cfg_file = './config.yml'\n",
    "ds = DataStore(cfg_file)"
   ]
  },
  {
   "cell_type": "code",
   "execution_count": 4,
   "metadata": {},
   "outputs": [
    {
     "name": "stdout",
     "output_type": "stream",
     "text": [
      "Loading CDR...\n"
     ]
    },
    {
     "name": "stderr",
     "output_type": "stream",
     "text": [
      "                                                                                \r"
     ]
    },
    {
     "name": "stdout",
     "output_type": "stream",
     "text": [
      "['interaction', 'caller_msisdn', 'recipient_msisdn', 'datetime', 'duration', 'antenna_id', 'recipient_type']\n",
      "['txn_type', 'caller_id', 'recipient_id', 'timestamp', 'duration', 'caller_antenna', 'international']\n"
     ]
    },
    {
     "name": "stderr",
     "output_type": "stream",
     "text": [
      "                                                                                \r"
     ]
    },
    {
     "name": "stdout",
     "output_type": "stream",
     "text": [
      "['antenna_id', 'latitude', 'longitude', 'canton', 'prefecture', 'region', 'mno', 'imputed']\n",
      "['antenna_id', 'latitude', 'longitude']\n",
      "+----------+--------+---------+\n",
      "|antenna_id|latitude|longitude|\n",
      "+----------+--------+---------+\n",
      "|     11266|6.143371| 1.259347|\n",
      "|     11265|6.143371| 1.259347|\n",
      "|     11264|6.143371| 1.259347|\n",
      "|      5011|6.143371| 1.259347|\n",
      "|      5012|6.143371| 1.259347|\n",
      "|      5013|6.143371| 1.259347|\n",
      "|      5014|6.143371| 1.259347|\n",
      "|      5015|6.143371| 1.259347|\n",
      "|      5016|6.143371| 1.259347|\n",
      "|      5019|6.143371| 1.259347|\n",
      "|      5018|6.143371| 1.259347|\n",
      "|      5017|6.143371| 1.259347|\n",
      "|     13563|6.136645| 1.257274|\n",
      "|     13562|6.136645| 1.257274|\n",
      "|     13561|6.136645| 1.257274|\n",
      "|      5131|6.136645| 1.257274|\n",
      "|      5132|6.136645| 1.257274|\n",
      "|      5133|6.136645| 1.257274|\n",
      "|      5134|6.136645| 1.257274|\n",
      "|      5135|6.136645| 1.257274|\n",
      "+----------+--------+---------+\n",
      "only showing top 20 rows\n",
      "\n",
      "Warning: 0 antennas missing location\n",
      "Columns: Index(['OBJECTID', 'region', 'NBRE_CANT', 'geometry'], dtype='object')\n",
      "Columns: Index(['FID_', 'Entity', 'Layer', 'Color', 'Linetype', 'Elevation', 'LineWt',\n",
      "       'RefName', 'Id', 'Situation_', 'region', 'Area', 'Perimeter',\n",
      "       'geometry'],\n",
      "      dtype='object')\n",
      "Columns: Index(['region', 'PREFECTURE', 'POPULATION', 'geometry'], dtype='object')\n"
     ]
    }
   ],
   "source": [
    "featurizer = Featurizer(ds)"
   ]
  },
  {
   "cell_type": "code",
   "execution_count": 5,
   "metadata": {},
   "outputs": [],
   "source": [
    "# add null column of recipient_antenna\n",
    "from pyspark.sql.functions import lit\n",
    "from pyspark.sql.types import StringType\n",
    "featurizer.ds.cdr = featurizer.ds.cdr.withColumn('recipient_antenna', lit(None).cast(StringType()))\n",
    "featurizer.cfg.col_names.cdr['recipient_antenna'] = 'recipient_antenna'"
   ]
  },
  {
   "cell_type": "markdown",
   "metadata": {},
   "source": [
    "# Try with first 1000 rows"
   ]
  },
  {
   "cell_type": "code",
   "execution_count": 6,
   "metadata": {},
   "outputs": [],
   "source": [
    "# # Try with first 1000 rows\n",
    "# full_df = featurizer.ds.cdr\n",
    "# featurizer.ds.cdr = full_df.limit(100)"
   ]
  },
  {
   "cell_type": "code",
   "execution_count": 7,
   "metadata": {},
   "outputs": [],
   "source": [
    "# featurizer.ds.cdr.count()"
   ]
  },
  {
   "cell_type": "code",
   "execution_count": 8,
   "metadata": {
    "scrolled": false
   },
   "outputs": [],
   "source": [
    "# cdr_features = featurizer.cdr_features_spark()"
   ]
  },
  {
   "cell_type": "code",
   "execution_count": 9,
   "metadata": {},
   "outputs": [],
   "source": [
    "# featurizer.ds.antennas.show(5)"
   ]
  },
  {
   "cell_type": "code",
   "execution_count": 10,
   "metadata": {},
   "outputs": [],
   "source": [
    "# featurizer.ds.cdr"
   ]
  },
  {
   "cell_type": "code",
   "execution_count": 11,
   "metadata": {},
   "outputs": [],
   "source": [
    "# # TODO:\n",
    "# featurizer.location_features()\n",
    "# featurizer.international_features()"
   ]
  },
  {
   "cell_type": "code",
   "execution_count": 12,
   "metadata": {},
   "outputs": [],
   "source": [
    "# featurizer.all_features()"
   ]
  },
  {
   "cell_type": "markdown",
   "metadata": {},
   "source": [
    "# Full Featurization"
   ]
  },
  {
   "cell_type": "code",
   "execution_count": 16,
   "metadata": {},
   "outputs": [
    {
     "name": "stderr",
     "output_type": "stream",
     "text": [
      "                                                                                \r"
     ]
    },
    {
     "data": {
      "text/plain": [
       "3546896"
      ]
     },
     "execution_count": 16,
     "metadata": {},
     "output_type": "execute_result"
    }
   ],
   "source": [
    "# featurizer.ds.cdr = full_df\n",
    "featurizer.ds.cdr.count()"
   ]
  },
  {
   "cell_type": "code",
   "execution_count": 17,
   "metadata": {},
   "outputs": [
    {
     "name": "stdout",
     "output_type": "stream",
     "text": [
      "Calculating CDR features...\n"
     ]
    },
    {
     "name": "stderr",
     "output_type": "stream",
     "text": [
      "                                                                                ]]\r"
     ]
    }
   ],
   "source": [
    "featurizer.cdr_features_spark()"
   ]
  },
  {
   "cell_type": "code",
   "execution_count": 18,
   "metadata": {},
   "outputs": [
    {
     "name": "stdout",
     "output_type": "stream",
     "text": [
      "Calculating spatial features...\n",
      "['interaction', 'name', 'correspondent_id', 'datetime', 'call_duration', 'antenna_id', 'international', 'direction']\n",
      "['interaction', 'correspondent_id', 'name', 'datetime', 'call_duration', 'international', 'antenna_id', 'antenna_id', 'direction']\n",
      "['interaction', 'correspondent_id', 'name', 'datetime', 'call_duration', 'international', 'antenna_id', 'antenna_id', 'direction']\n"
     ]
    },
    {
     "name": "stderr",
     "output_type": "stream",
     "text": [
      "/home/connermanuel/.cache/pypoetry/virtualenvs/cider-pYyYiFm9-py3.8/lib64/python3.8/site-packages/pyproj/crs/crs.py:131: FutureWarning: '+init=<authority>:<code>' syntax is deprecated. '<authority>:<code>' is the preferred initialization method. When making the change, be mindful of axis order changes: https://pyproj4.github.io/pyproj/stable/gotchas.html#axis-order-changes-in-proj-6\n",
      "  in_crs_string = _prepare_from_proj_string(in_crs_string)\n",
      "/home/connermanuel/cider/cider/featurizer.py:332: UserWarning: CRS mismatch between the CRS of left geometries and the CRS of right geometries.\n",
      "Use `to_crs()` to reproject one of the input geometries to match the CRS of the other.\n",
      "\n",
      "Left CRS: +init=epsg:4326 +type=crs\n",
      "Right CRS: EPSG:4326\n",
      "\n",
      "  antennas = gpd.sjoin(antennas, shapefile, op='within', how='left').drop('index_right', axis=1)\n",
      "/home/connermanuel/cider/cider/featurizer.py:332: UserWarning: CRS mismatch between the CRS of left geometries and the CRS of right geometries.\n",
      "Use `to_crs()` to reproject one of the input geometries to match the CRS of the other.\n",
      "\n",
      "Left CRS: +init=epsg:4326 +type=crs\n",
      "Right CRS: EPSG:4326\n",
      "\n",
      "  antennas = gpd.sjoin(antennas, shapefile, op='within', how='left').drop('index_right', axis=1)\n",
      "/home/connermanuel/cider/cider/featurizer.py:332: UserWarning: CRS mismatch between the CRS of left geometries and the CRS of right geometries.\n",
      "Use `to_crs()` to reproject one of the input geometries to match the CRS of the other.\n",
      "\n",
      "Left CRS: +init=epsg:4326 +type=crs\n",
      "Right CRS: EPSG:4326\n",
      "\n",
      "  antennas = gpd.sjoin(antennas, shapefile, op='within', how='left').drop('index_right', axis=1)\n"
     ]
    },
    {
     "name": "stdout",
     "output_type": "stream",
     "text": [
      "<class 'geopandas.geodataframe.GeoDataFrame'>\n",
      "Index(['antenna_id', 'canton', 'prefecture', 'region', 'mno', 'imputed',\n",
      "       'regions', 'cantons', 'prefectures'],\n",
      "      dtype='object')\n",
      "['antenna_id', 'canton', 'prefecture', 'region', 'mno', 'imputed', 'regions', 'cantons', 'prefectures']\n"
     ]
    },
    {
     "name": "stderr",
     "output_type": "stream",
     "text": [
      "/home/connermanuel/cider/cider/featurizer.py:367: PerformanceWarning: DataFrame is highly fragmented.  This is usually the result of calling `frame.insert` many times, which has poor performance.  Consider joining all columns at once using pd.concat(axis=1) instead. To get a de-fragmented frame, use `newframe = frame.copy()`\n",
      "  count_by_region[c + '_percent'] = count_by_region[c] / count_by_region['total']\n",
      "/home/connermanuel/cider/cider/featurizer.py:367: PerformanceWarning: DataFrame is highly fragmented.  This is usually the result of calling `frame.insert` many times, which has poor performance.  Consider joining all columns at once using pd.concat(axis=1) instead. To get a de-fragmented frame, use `newframe = frame.copy()`\n",
      "  count_by_region[c + '_percent'] = count_by_region[c] / count_by_region['total']\n",
      "/home/connermanuel/cider/cider/featurizer.py:367: PerformanceWarning: DataFrame is highly fragmented.  This is usually the result of calling `frame.insert` many times, which has poor performance.  Consider joining all columns at once using pd.concat(axis=1) instead. To get a de-fragmented frame, use `newframe = frame.copy()`\n",
      "  count_by_region[c + '_percent'] = count_by_region[c] / count_by_region['total']\n",
      "/home/connermanuel/cider/cider/featurizer.py:367: PerformanceWarning: DataFrame is highly fragmented.  This is usually the result of calling `frame.insert` many times, which has poor performance.  Consider joining all columns at once using pd.concat(axis=1) instead. To get a de-fragmented frame, use `newframe = frame.copy()`\n",
      "  count_by_region[c + '_percent'] = count_by_region[c] / count_by_region['total']\n",
      "/home/connermanuel/cider/cider/featurizer.py:367: PerformanceWarning: DataFrame is highly fragmented.  This is usually the result of calling `frame.insert` many times, which has poor performance.  Consider joining all columns at once using pd.concat(axis=1) instead. To get a de-fragmented frame, use `newframe = frame.copy()`\n",
      "  count_by_region[c + '_percent'] = count_by_region[c] / count_by_region['total']\n",
      "/home/connermanuel/cider/cider/featurizer.py:367: PerformanceWarning: DataFrame is highly fragmented.  This is usually the result of calling `frame.insert` many times, which has poor performance.  Consider joining all columns at once using pd.concat(axis=1) instead. To get a de-fragmented frame, use `newframe = frame.copy()`\n",
      "  count_by_region[c + '_percent'] = count_by_region[c] / count_by_region['total']\n",
      "/home/connermanuel/cider/cider/featurizer.py:367: PerformanceWarning: DataFrame is highly fragmented.  This is usually the result of calling `frame.insert` many times, which has poor performance.  Consider joining all columns at once using pd.concat(axis=1) instead. To get a de-fragmented frame, use `newframe = frame.copy()`\n",
      "  count_by_region[c + '_percent'] = count_by_region[c] / count_by_region['total']\n",
      "/home/connermanuel/cider/cider/featurizer.py:367: PerformanceWarning: DataFrame is highly fragmented.  This is usually the result of calling `frame.insert` many times, which has poor performance.  Consider joining all columns at once using pd.concat(axis=1) instead. To get a de-fragmented frame, use `newframe = frame.copy()`\n",
      "  count_by_region[c + '_percent'] = count_by_region[c] / count_by_region['total']\n",
      "/home/connermanuel/cider/cider/featurizer.py:367: PerformanceWarning: DataFrame is highly fragmented.  This is usually the result of calling `frame.insert` many times, which has poor performance.  Consider joining all columns at once using pd.concat(axis=1) instead. To get a de-fragmented frame, use `newframe = frame.copy()`\n",
      "  count_by_region[c + '_percent'] = count_by_region[c] / count_by_region['total']\n",
      "/home/connermanuel/cider/cider/featurizer.py:367: PerformanceWarning: DataFrame is highly fragmented.  This is usually the result of calling `frame.insert` many times, which has poor performance.  Consider joining all columns at once using pd.concat(axis=1) instead. To get a de-fragmented frame, use `newframe = frame.copy()`\n",
      "  count_by_region[c + '_percent'] = count_by_region[c] / count_by_region['total']\n",
      "/home/connermanuel/cider/cider/featurizer.py:367: PerformanceWarning: DataFrame is highly fragmented.  This is usually the result of calling `frame.insert` many times, which has poor performance.  Consider joining all columns at once using pd.concat(axis=1) instead. To get a de-fragmented frame, use `newframe = frame.copy()`\n",
      "  count_by_region[c + '_percent'] = count_by_region[c] / count_by_region['total']\n",
      "/home/connermanuel/cider/cider/featurizer.py:367: PerformanceWarning: DataFrame is highly fragmented.  This is usually the result of calling `frame.insert` many times, which has poor performance.  Consider joining all columns at once using pd.concat(axis=1) instead. To get a de-fragmented frame, use `newframe = frame.copy()`\n",
      "  count_by_region[c + '_percent'] = count_by_region[c] / count_by_region['total']\n",
      "/home/connermanuel/cider/cider/featurizer.py:367: PerformanceWarning: DataFrame is highly fragmented.  This is usually the result of calling `frame.insert` many times, which has poor performance.  Consider joining all columns at once using pd.concat(axis=1) instead. To get a de-fragmented frame, use `newframe = frame.copy()`\n",
      "  count_by_region[c + '_percent'] = count_by_region[c] / count_by_region['total']\n",
      "/home/connermanuel/cider/cider/featurizer.py:367: PerformanceWarning: DataFrame is highly fragmented.  This is usually the result of calling `frame.insert` many times, which has poor performance.  Consider joining all columns at once using pd.concat(axis=1) instead. To get a de-fragmented frame, use `newframe = frame.copy()`\n",
      "  count_by_region[c + '_percent'] = count_by_region[c] / count_by_region['total']\n",
      "/home/connermanuel/cider/cider/featurizer.py:367: PerformanceWarning: DataFrame is highly fragmented.  This is usually the result of calling `frame.insert` many times, which has poor performance.  Consider joining all columns at once using pd.concat(axis=1) instead. To get a de-fragmented frame, use `newframe = frame.copy()`\n",
      "  count_by_region[c + '_percent'] = count_by_region[c] / count_by_region['total']\n",
      "/home/connermanuel/cider/cider/featurizer.py:367: PerformanceWarning: DataFrame is highly fragmented.  This is usually the result of calling `frame.insert` many times, which has poor performance.  Consider joining all columns at once using pd.concat(axis=1) instead. To get a de-fragmented frame, use `newframe = frame.copy()`\n",
      "  count_by_region[c + '_percent'] = count_by_region[c] / count_by_region['total']\n",
      "/home/connermanuel/cider/cider/featurizer.py:367: PerformanceWarning: DataFrame is highly fragmented.  This is usually the result of calling `frame.insert` many times, which has poor performance.  Consider joining all columns at once using pd.concat(axis=1) instead. To get a de-fragmented frame, use `newframe = frame.copy()`\n",
      "  count_by_region[c + '_percent'] = count_by_region[c] / count_by_region['total']\n",
      "/home/connermanuel/cider/cider/featurizer.py:367: PerformanceWarning: DataFrame is highly fragmented.  This is usually the result of calling `frame.insert` many times, which has poor performance.  Consider joining all columns at once using pd.concat(axis=1) instead. To get a de-fragmented frame, use `newframe = frame.copy()`\n",
      "  count_by_region[c + '_percent'] = count_by_region[c] / count_by_region['total']\n",
      "/home/connermanuel/cider/cider/featurizer.py:367: PerformanceWarning: DataFrame is highly fragmented.  This is usually the result of calling `frame.insert` many times, which has poor performance.  Consider joining all columns at once using pd.concat(axis=1) instead. To get a de-fragmented frame, use `newframe = frame.copy()`\n",
      "  count_by_region[c + '_percent'] = count_by_region[c] / count_by_region['total']\n",
      "/home/connermanuel/cider/cider/featurizer.py:367: PerformanceWarning: DataFrame is highly fragmented.  This is usually the result of calling `frame.insert` many times, which has poor performance.  Consider joining all columns at once using pd.concat(axis=1) instead. To get a de-fragmented frame, use `newframe = frame.copy()`\n",
      "  count_by_region[c + '_percent'] = count_by_region[c] / count_by_region['total']\n",
      "/home/connermanuel/cider/cider/featurizer.py:367: PerformanceWarning: DataFrame is highly fragmented.  This is usually the result of calling `frame.insert` many times, which has poor performance.  Consider joining all columns at once using pd.concat(axis=1) instead. To get a de-fragmented frame, use `newframe = frame.copy()`\n",
      "  count_by_region[c + '_percent'] = count_by_region[c] / count_by_region['total']\n",
      "/home/connermanuel/cider/cider/featurizer.py:367: PerformanceWarning: DataFrame is highly fragmented.  This is usually the result of calling `frame.insert` many times, which has poor performance.  Consider joining all columns at once using pd.concat(axis=1) instead. To get a de-fragmented frame, use `newframe = frame.copy()`\n",
      "  count_by_region[c + '_percent'] = count_by_region[c] / count_by_region['total']\n",
      "/home/connermanuel/cider/cider/featurizer.py:367: PerformanceWarning: DataFrame is highly fragmented.  This is usually the result of calling `frame.insert` many times, which has poor performance.  Consider joining all columns at once using pd.concat(axis=1) instead. To get a de-fragmented frame, use `newframe = frame.copy()`\n",
      "  count_by_region[c + '_percent'] = count_by_region[c] / count_by_region['total']\n",
      "/home/connermanuel/cider/cider/featurizer.py:367: PerformanceWarning: DataFrame is highly fragmented.  This is usually the result of calling `frame.insert` many times, which has poor performance.  Consider joining all columns at once using pd.concat(axis=1) instead. To get a de-fragmented frame, use `newframe = frame.copy()`\n",
      "  count_by_region[c + '_percent'] = count_by_region[c] / count_by_region['total']\n",
      "/home/connermanuel/cider/cider/featurizer.py:367: PerformanceWarning: DataFrame is highly fragmented.  This is usually the result of calling `frame.insert` many times, which has poor performance.  Consider joining all columns at once using pd.concat(axis=1) instead. To get a de-fragmented frame, use `newframe = frame.copy()`\n",
      "  count_by_region[c + '_percent'] = count_by_region[c] / count_by_region['total']\n"
     ]
    },
    {
     "name": "stderr",
     "output_type": "stream",
     "text": [
      "/home/connermanuel/cider/cider/featurizer.py:367: PerformanceWarning: DataFrame is highly fragmented.  This is usually the result of calling `frame.insert` many times, which has poor performance.  Consider joining all columns at once using pd.concat(axis=1) instead. To get a de-fragmented frame, use `newframe = frame.copy()`\n",
      "  count_by_region[c + '_percent'] = count_by_region[c] / count_by_region['total']\n",
      "/home/connermanuel/cider/cider/featurizer.py:367: PerformanceWarning: DataFrame is highly fragmented.  This is usually the result of calling `frame.insert` many times, which has poor performance.  Consider joining all columns at once using pd.concat(axis=1) instead. To get a de-fragmented frame, use `newframe = frame.copy()`\n",
      "  count_by_region[c + '_percent'] = count_by_region[c] / count_by_region['total']\n",
      "/home/connermanuel/cider/cider/featurizer.py:367: PerformanceWarning: DataFrame is highly fragmented.  This is usually the result of calling `frame.insert` many times, which has poor performance.  Consider joining all columns at once using pd.concat(axis=1) instead. To get a de-fragmented frame, use `newframe = frame.copy()`\n",
      "  count_by_region[c + '_percent'] = count_by_region[c] / count_by_region['total']\n",
      "/home/connermanuel/cider/cider/featurizer.py:367: PerformanceWarning: DataFrame is highly fragmented.  This is usually the result of calling `frame.insert` many times, which has poor performance.  Consider joining all columns at once using pd.concat(axis=1) instead. To get a de-fragmented frame, use `newframe = frame.copy()`\n",
      "  count_by_region[c + '_percent'] = count_by_region[c] / count_by_region['total']\n",
      "/home/connermanuel/cider/cider/featurizer.py:367: PerformanceWarning: DataFrame is highly fragmented.  This is usually the result of calling `frame.insert` many times, which has poor performance.  Consider joining all columns at once using pd.concat(axis=1) instead. To get a de-fragmented frame, use `newframe = frame.copy()`\n",
      "  count_by_region[c + '_percent'] = count_by_region[c] / count_by_region['total']\n",
      "/home/connermanuel/cider/cider/featurizer.py:367: PerformanceWarning: DataFrame is highly fragmented.  This is usually the result of calling `frame.insert` many times, which has poor performance.  Consider joining all columns at once using pd.concat(axis=1) instead. To get a de-fragmented frame, use `newframe = frame.copy()`\n",
      "  count_by_region[c + '_percent'] = count_by_region[c] / count_by_region['total']\n",
      "/home/connermanuel/cider/cider/featurizer.py:367: PerformanceWarning: DataFrame is highly fragmented.  This is usually the result of calling `frame.insert` many times, which has poor performance.  Consider joining all columns at once using pd.concat(axis=1) instead. To get a de-fragmented frame, use `newframe = frame.copy()`\n",
      "  count_by_region[c + '_percent'] = count_by_region[c] / count_by_region['total']\n",
      "/home/connermanuel/cider/cider/featurizer.py:367: PerformanceWarning: DataFrame is highly fragmented.  This is usually the result of calling `frame.insert` many times, which has poor performance.  Consider joining all columns at once using pd.concat(axis=1) instead. To get a de-fragmented frame, use `newframe = frame.copy()`\n",
      "  count_by_region[c + '_percent'] = count_by_region[c] / count_by_region['total']\n",
      "/home/connermanuel/cider/cider/featurizer.py:367: PerformanceWarning: DataFrame is highly fragmented.  This is usually the result of calling `frame.insert` many times, which has poor performance.  Consider joining all columns at once using pd.concat(axis=1) instead. To get a de-fragmented frame, use `newframe = frame.copy()`\n",
      "  count_by_region[c + '_percent'] = count_by_region[c] / count_by_region['total']\n",
      "/home/connermanuel/cider/cider/featurizer.py:367: PerformanceWarning: DataFrame is highly fragmented.  This is usually the result of calling `frame.insert` many times, which has poor performance.  Consider joining all columns at once using pd.concat(axis=1) instead. To get a de-fragmented frame, use `newframe = frame.copy()`\n",
      "  count_by_region[c + '_percent'] = count_by_region[c] / count_by_region['total']\n",
      "/home/connermanuel/cider/cider/featurizer.py:367: PerformanceWarning: DataFrame is highly fragmented.  This is usually the result of calling `frame.insert` many times, which has poor performance.  Consider joining all columns at once using pd.concat(axis=1) instead. To get a de-fragmented frame, use `newframe = frame.copy()`\n",
      "  count_by_region[c + '_percent'] = count_by_region[c] / count_by_region['total']\n",
      "/home/connermanuel/cider/cider/featurizer.py:367: PerformanceWarning: DataFrame is highly fragmented.  This is usually the result of calling `frame.insert` many times, which has poor performance.  Consider joining all columns at once using pd.concat(axis=1) instead. To get a de-fragmented frame, use `newframe = frame.copy()`\n",
      "  count_by_region[c + '_percent'] = count_by_region[c] / count_by_region['total']\n",
      "/home/connermanuel/cider/cider/featurizer.py:367: PerformanceWarning: DataFrame is highly fragmented.  This is usually the result of calling `frame.insert` many times, which has poor performance.  Consider joining all columns at once using pd.concat(axis=1) instead. To get a de-fragmented frame, use `newframe = frame.copy()`\n",
      "  count_by_region[c + '_percent'] = count_by_region[c] / count_by_region['total']\n",
      "/home/connermanuel/cider/cider/featurizer.py:367: PerformanceWarning: DataFrame is highly fragmented.  This is usually the result of calling `frame.insert` many times, which has poor performance.  Consider joining all columns at once using pd.concat(axis=1) instead. To get a de-fragmented frame, use `newframe = frame.copy()`\n",
      "  count_by_region[c + '_percent'] = count_by_region[c] / count_by_region['total']\n",
      "/home/connermanuel/cider/cider/featurizer.py:367: PerformanceWarning: DataFrame is highly fragmented.  This is usually the result of calling `frame.insert` many times, which has poor performance.  Consider joining all columns at once using pd.concat(axis=1) instead. To get a de-fragmented frame, use `newframe = frame.copy()`\n",
      "  count_by_region[c + '_percent'] = count_by_region[c] / count_by_region['total']\n",
      "/home/connermanuel/cider/cider/featurizer.py:367: PerformanceWarning: DataFrame is highly fragmented.  This is usually the result of calling `frame.insert` many times, which has poor performance.  Consider joining all columns at once using pd.concat(axis=1) instead. To get a de-fragmented frame, use `newframe = frame.copy()`\n",
      "  count_by_region[c + '_percent'] = count_by_region[c] / count_by_region['total']\n",
      "/home/connermanuel/cider/cider/featurizer.py:367: PerformanceWarning: DataFrame is highly fragmented.  This is usually the result of calling `frame.insert` many times, which has poor performance.  Consider joining all columns at once using pd.concat(axis=1) instead. To get a de-fragmented frame, use `newframe = frame.copy()`\n",
      "  count_by_region[c + '_percent'] = count_by_region[c] / count_by_region['total']\n",
      "/home/connermanuel/cider/cider/featurizer.py:367: PerformanceWarning: DataFrame is highly fragmented.  This is usually the result of calling `frame.insert` many times, which has poor performance.  Consider joining all columns at once using pd.concat(axis=1) instead. To get a de-fragmented frame, use `newframe = frame.copy()`\n",
      "  count_by_region[c + '_percent'] = count_by_region[c] / count_by_region['total']\n",
      "/home/connermanuel/cider/cider/featurizer.py:367: PerformanceWarning: DataFrame is highly fragmented.  This is usually the result of calling `frame.insert` many times, which has poor performance.  Consider joining all columns at once using pd.concat(axis=1) instead. To get a de-fragmented frame, use `newframe = frame.copy()`\n",
      "  count_by_region[c + '_percent'] = count_by_region[c] / count_by_region['total']\n",
      "/home/connermanuel/cider/cider/featurizer.py:367: PerformanceWarning: DataFrame is highly fragmented.  This is usually the result of calling `frame.insert` many times, which has poor performance.  Consider joining all columns at once using pd.concat(axis=1) instead. To get a de-fragmented frame, use `newframe = frame.copy()`\n",
      "  count_by_region[c + '_percent'] = count_by_region[c] / count_by_region['total']\n",
      "/home/connermanuel/cider/cider/featurizer.py:367: PerformanceWarning: DataFrame is highly fragmented.  This is usually the result of calling `frame.insert` many times, which has poor performance.  Consider joining all columns at once using pd.concat(axis=1) instead. To get a de-fragmented frame, use `newframe = frame.copy()`\n",
      "  count_by_region[c + '_percent'] = count_by_region[c] / count_by_region['total']\n",
      "/home/connermanuel/cider/cider/featurizer.py:367: PerformanceWarning: DataFrame is highly fragmented.  This is usually the result of calling `frame.insert` many times, which has poor performance.  Consider joining all columns at once using pd.concat(axis=1) instead. To get a de-fragmented frame, use `newframe = frame.copy()`\n",
      "  count_by_region[c + '_percent'] = count_by_region[c] / count_by_region['total']\n",
      "/home/connermanuel/cider/cider/featurizer.py:367: PerformanceWarning: DataFrame is highly fragmented.  This is usually the result of calling `frame.insert` many times, which has poor performance.  Consider joining all columns at once using pd.concat(axis=1) instead. To get a de-fragmented frame, use `newframe = frame.copy()`\n",
      "  count_by_region[c + '_percent'] = count_by_region[c] / count_by_region['total']\n",
      "/home/connermanuel/cider/cider/featurizer.py:367: PerformanceWarning: DataFrame is highly fragmented.  This is usually the result of calling `frame.insert` many times, which has poor performance.  Consider joining all columns at once using pd.concat(axis=1) instead. To get a de-fragmented frame, use `newframe = frame.copy()`\n",
      "  count_by_region[c + '_percent'] = count_by_region[c] / count_by_region['total']\n",
      "/home/connermanuel/cider/cider/featurizer.py:367: PerformanceWarning: DataFrame is highly fragmented.  This is usually the result of calling `frame.insert` many times, which has poor performance.  Consider joining all columns at once using pd.concat(axis=1) instead. To get a de-fragmented frame, use `newframe = frame.copy()`\n",
      "  count_by_region[c + '_percent'] = count_by_region[c] / count_by_region['total']\n",
      "/home/connermanuel/cider/cider/featurizer.py:367: PerformanceWarning: DataFrame is highly fragmented.  This is usually the result of calling `frame.insert` many times, which has poor performance.  Consider joining all columns at once using pd.concat(axis=1) instead. To get a de-fragmented frame, use `newframe = frame.copy()`\n",
      "  count_by_region[c + '_percent'] = count_by_region[c] / count_by_region['total']\n",
      "/home/connermanuel/cider/cider/featurizer.py:367: PerformanceWarning: DataFrame is highly fragmented.  This is usually the result of calling `frame.insert` many times, which has poor performance.  Consider joining all columns at once using pd.concat(axis=1) instead. To get a de-fragmented frame, use `newframe = frame.copy()`\n",
      "  count_by_region[c + '_percent'] = count_by_region[c] / count_by_region['total']\n",
      "/home/connermanuel/cider/cider/featurizer.py:367: PerformanceWarning: DataFrame is highly fragmented.  This is usually the result of calling `frame.insert` many times, which has poor performance.  Consider joining all columns at once using pd.concat(axis=1) instead. To get a de-fragmented frame, use `newframe = frame.copy()`\n",
      "  count_by_region[c + '_percent'] = count_by_region[c] / count_by_region['total']\n"
     ]
    },
    {
     "name": "stderr",
     "output_type": "stream",
     "text": [
      "/home/connermanuel/cider/cider/featurizer.py:367: PerformanceWarning: DataFrame is highly fragmented.  This is usually the result of calling `frame.insert` many times, which has poor performance.  Consider joining all columns at once using pd.concat(axis=1) instead. To get a de-fragmented frame, use `newframe = frame.copy()`\n",
      "  count_by_region[c + '_percent'] = count_by_region[c] / count_by_region['total']\n",
      "/home/connermanuel/cider/cider/featurizer.py:367: PerformanceWarning: DataFrame is highly fragmented.  This is usually the result of calling `frame.insert` many times, which has poor performance.  Consider joining all columns at once using pd.concat(axis=1) instead. To get a de-fragmented frame, use `newframe = frame.copy()`\n",
      "  count_by_region[c + '_percent'] = count_by_region[c] / count_by_region['total']\n",
      "/home/connermanuel/cider/cider/featurizer.py:367: PerformanceWarning: DataFrame is highly fragmented.  This is usually the result of calling `frame.insert` many times, which has poor performance.  Consider joining all columns at once using pd.concat(axis=1) instead. To get a de-fragmented frame, use `newframe = frame.copy()`\n",
      "  count_by_region[c + '_percent'] = count_by_region[c] / count_by_region['total']\n",
      "/home/connermanuel/cider/cider/featurizer.py:367: PerformanceWarning: DataFrame is highly fragmented.  This is usually the result of calling `frame.insert` many times, which has poor performance.  Consider joining all columns at once using pd.concat(axis=1) instead. To get a de-fragmented frame, use `newframe = frame.copy()`\n",
      "  count_by_region[c + '_percent'] = count_by_region[c] / count_by_region['total']\n",
      "/home/connermanuel/cider/cider/featurizer.py:367: PerformanceWarning: DataFrame is highly fragmented.  This is usually the result of calling `frame.insert` many times, which has poor performance.  Consider joining all columns at once using pd.concat(axis=1) instead. To get a de-fragmented frame, use `newframe = frame.copy()`\n",
      "  count_by_region[c + '_percent'] = count_by_region[c] / count_by_region['total']\n",
      "/home/connermanuel/cider/cider/featurizer.py:367: PerformanceWarning: DataFrame is highly fragmented.  This is usually the result of calling `frame.insert` many times, which has poor performance.  Consider joining all columns at once using pd.concat(axis=1) instead. To get a de-fragmented frame, use `newframe = frame.copy()`\n",
      "  count_by_region[c + '_percent'] = count_by_region[c] / count_by_region['total']\n",
      "/home/connermanuel/cider/cider/featurizer.py:367: PerformanceWarning: DataFrame is highly fragmented.  This is usually the result of calling `frame.insert` many times, which has poor performance.  Consider joining all columns at once using pd.concat(axis=1) instead. To get a de-fragmented frame, use `newframe = frame.copy()`\n",
      "  count_by_region[c + '_percent'] = count_by_region[c] / count_by_region['total']\n",
      "/home/connermanuel/cider/cider/featurizer.py:367: PerformanceWarning: DataFrame is highly fragmented.  This is usually the result of calling `frame.insert` many times, which has poor performance.  Consider joining all columns at once using pd.concat(axis=1) instead. To get a de-fragmented frame, use `newframe = frame.copy()`\n",
      "  count_by_region[c + '_percent'] = count_by_region[c] / count_by_region['total']\n",
      "/home/connermanuel/cider/cider/featurizer.py:367: PerformanceWarning: DataFrame is highly fragmented.  This is usually the result of calling `frame.insert` many times, which has poor performance.  Consider joining all columns at once using pd.concat(axis=1) instead. To get a de-fragmented frame, use `newframe = frame.copy()`\n",
      "  count_by_region[c + '_percent'] = count_by_region[c] / count_by_region['total']\n",
      "/home/connermanuel/cider/cider/featurizer.py:367: PerformanceWarning: DataFrame is highly fragmented.  This is usually the result of calling `frame.insert` many times, which has poor performance.  Consider joining all columns at once using pd.concat(axis=1) instead. To get a de-fragmented frame, use `newframe = frame.copy()`\n",
      "  count_by_region[c + '_percent'] = count_by_region[c] / count_by_region['total']\n",
      "/home/connermanuel/cider/cider/featurizer.py:367: PerformanceWarning: DataFrame is highly fragmented.  This is usually the result of calling `frame.insert` many times, which has poor performance.  Consider joining all columns at once using pd.concat(axis=1) instead. To get a de-fragmented frame, use `newframe = frame.copy()`\n",
      "  count_by_region[c + '_percent'] = count_by_region[c] / count_by_region['total']\n",
      "/home/connermanuel/cider/cider/featurizer.py:367: PerformanceWarning: DataFrame is highly fragmented.  This is usually the result of calling `frame.insert` many times, which has poor performance.  Consider joining all columns at once using pd.concat(axis=1) instead. To get a de-fragmented frame, use `newframe = frame.copy()`\n",
      "  count_by_region[c + '_percent'] = count_by_region[c] / count_by_region['total']\n",
      "/home/connermanuel/cider/cider/featurizer.py:367: PerformanceWarning: DataFrame is highly fragmented.  This is usually the result of calling `frame.insert` many times, which has poor performance.  Consider joining all columns at once using pd.concat(axis=1) instead. To get a de-fragmented frame, use `newframe = frame.copy()`\n",
      "  count_by_region[c + '_percent'] = count_by_region[c] / count_by_region['total']\n",
      "/home/connermanuel/cider/cider/featurizer.py:367: PerformanceWarning: DataFrame is highly fragmented.  This is usually the result of calling `frame.insert` many times, which has poor performance.  Consider joining all columns at once using pd.concat(axis=1) instead. To get a de-fragmented frame, use `newframe = frame.copy()`\n",
      "  count_by_region[c + '_percent'] = count_by_region[c] / count_by_region['total']\n",
      "/home/connermanuel/cider/cider/featurizer.py:367: PerformanceWarning: DataFrame is highly fragmented.  This is usually the result of calling `frame.insert` many times, which has poor performance.  Consider joining all columns at once using pd.concat(axis=1) instead. To get a de-fragmented frame, use `newframe = frame.copy()`\n",
      "  count_by_region[c + '_percent'] = count_by_region[c] / count_by_region['total']\n",
      "/home/connermanuel/cider/cider/featurizer.py:367: PerformanceWarning: DataFrame is highly fragmented.  This is usually the result of calling `frame.insert` many times, which has poor performance.  Consider joining all columns at once using pd.concat(axis=1) instead. To get a de-fragmented frame, use `newframe = frame.copy()`\n",
      "  count_by_region[c + '_percent'] = count_by_region[c] / count_by_region['total']\n",
      "/home/connermanuel/cider/cider/featurizer.py:367: PerformanceWarning: DataFrame is highly fragmented.  This is usually the result of calling `frame.insert` many times, which has poor performance.  Consider joining all columns at once using pd.concat(axis=1) instead. To get a de-fragmented frame, use `newframe = frame.copy()`\n",
      "  count_by_region[c + '_percent'] = count_by_region[c] / count_by_region['total']\n",
      "/home/connermanuel/cider/cider/featurizer.py:367: PerformanceWarning: DataFrame is highly fragmented.  This is usually the result of calling `frame.insert` many times, which has poor performance.  Consider joining all columns at once using pd.concat(axis=1) instead. To get a de-fragmented frame, use `newframe = frame.copy()`\n",
      "  count_by_region[c + '_percent'] = count_by_region[c] / count_by_region['total']\n",
      "/home/connermanuel/cider/cider/featurizer.py:367: PerformanceWarning: DataFrame is highly fragmented.  This is usually the result of calling `frame.insert` many times, which has poor performance.  Consider joining all columns at once using pd.concat(axis=1) instead. To get a de-fragmented frame, use `newframe = frame.copy()`\n",
      "  count_by_region[c + '_percent'] = count_by_region[c] / count_by_region['total']\n",
      "/home/connermanuel/cider/cider/featurizer.py:367: PerformanceWarning: DataFrame is highly fragmented.  This is usually the result of calling `frame.insert` many times, which has poor performance.  Consider joining all columns at once using pd.concat(axis=1) instead. To get a de-fragmented frame, use `newframe = frame.copy()`\n",
      "  count_by_region[c + '_percent'] = count_by_region[c] / count_by_region['total']\n",
      "/home/connermanuel/cider/cider/featurizer.py:367: PerformanceWarning: DataFrame is highly fragmented.  This is usually the result of calling `frame.insert` many times, which has poor performance.  Consider joining all columns at once using pd.concat(axis=1) instead. To get a de-fragmented frame, use `newframe = frame.copy()`\n",
      "  count_by_region[c + '_percent'] = count_by_region[c] / count_by_region['total']\n",
      "/home/connermanuel/cider/cider/featurizer.py:367: PerformanceWarning: DataFrame is highly fragmented.  This is usually the result of calling `frame.insert` many times, which has poor performance.  Consider joining all columns at once using pd.concat(axis=1) instead. To get a de-fragmented frame, use `newframe = frame.copy()`\n",
      "  count_by_region[c + '_percent'] = count_by_region[c] / count_by_region['total']\n",
      "/home/connermanuel/cider/cider/featurizer.py:367: PerformanceWarning: DataFrame is highly fragmented.  This is usually the result of calling `frame.insert` many times, which has poor performance.  Consider joining all columns at once using pd.concat(axis=1) instead. To get a de-fragmented frame, use `newframe = frame.copy()`\n",
      "  count_by_region[c + '_percent'] = count_by_region[c] / count_by_region['total']\n",
      "/home/connermanuel/cider/cider/featurizer.py:367: PerformanceWarning: DataFrame is highly fragmented.  This is usually the result of calling `frame.insert` many times, which has poor performance.  Consider joining all columns at once using pd.concat(axis=1) instead. To get a de-fragmented frame, use `newframe = frame.copy()`\n",
      "  count_by_region[c + '_percent'] = count_by_region[c] / count_by_region['total']\n",
      "/home/connermanuel/cider/cider/featurizer.py:367: PerformanceWarning: DataFrame is highly fragmented.  This is usually the result of calling `frame.insert` many times, which has poor performance.  Consider joining all columns at once using pd.concat(axis=1) instead. To get a de-fragmented frame, use `newframe = frame.copy()`\n",
      "  count_by_region[c + '_percent'] = count_by_region[c] / count_by_region['total']\n",
      "/home/connermanuel/cider/cider/featurizer.py:367: PerformanceWarning: DataFrame is highly fragmented.  This is usually the result of calling `frame.insert` many times, which has poor performance.  Consider joining all columns at once using pd.concat(axis=1) instead. To get a de-fragmented frame, use `newframe = frame.copy()`\n",
      "  count_by_region[c + '_percent'] = count_by_region[c] / count_by_region['total']\n",
      "/home/connermanuel/cider/cider/featurizer.py:367: PerformanceWarning: DataFrame is highly fragmented.  This is usually the result of calling `frame.insert` many times, which has poor performance.  Consider joining all columns at once using pd.concat(axis=1) instead. To get a de-fragmented frame, use `newframe = frame.copy()`\n",
      "  count_by_region[c + '_percent'] = count_by_region[c] / count_by_region['total']\n",
      "/home/connermanuel/cider/cider/featurizer.py:367: PerformanceWarning: DataFrame is highly fragmented.  This is usually the result of calling `frame.insert` many times, which has poor performance.  Consider joining all columns at once using pd.concat(axis=1) instead. To get a de-fragmented frame, use `newframe = frame.copy()`\n",
      "  count_by_region[c + '_percent'] = count_by_region[c] / count_by_region['total']\n"
     ]
    },
    {
     "name": "stderr",
     "output_type": "stream",
     "text": [
      "/home/connermanuel/cider/cider/featurizer.py:367: PerformanceWarning: DataFrame is highly fragmented.  This is usually the result of calling `frame.insert` many times, which has poor performance.  Consider joining all columns at once using pd.concat(axis=1) instead. To get a de-fragmented frame, use `newframe = frame.copy()`\n",
      "  count_by_region[c + '_percent'] = count_by_region[c] / count_by_region['total']\n",
      "/home/connermanuel/cider/cider/featurizer.py:367: PerformanceWarning: DataFrame is highly fragmented.  This is usually the result of calling `frame.insert` many times, which has poor performance.  Consider joining all columns at once using pd.concat(axis=1) instead. To get a de-fragmented frame, use `newframe = frame.copy()`\n",
      "  count_by_region[c + '_percent'] = count_by_region[c] / count_by_region['total']\n",
      "/home/connermanuel/cider/cider/featurizer.py:367: PerformanceWarning: DataFrame is highly fragmented.  This is usually the result of calling `frame.insert` many times, which has poor performance.  Consider joining all columns at once using pd.concat(axis=1) instead. To get a de-fragmented frame, use `newframe = frame.copy()`\n",
      "  count_by_region[c + '_percent'] = count_by_region[c] / count_by_region['total']\n",
      "/home/connermanuel/cider/cider/featurizer.py:367: PerformanceWarning: DataFrame is highly fragmented.  This is usually the result of calling `frame.insert` many times, which has poor performance.  Consider joining all columns at once using pd.concat(axis=1) instead. To get a de-fragmented frame, use `newframe = frame.copy()`\n",
      "  count_by_region[c + '_percent'] = count_by_region[c] / count_by_region['total']\n",
      "/home/connermanuel/cider/cider/featurizer.py:367: PerformanceWarning: DataFrame is highly fragmented.  This is usually the result of calling `frame.insert` many times, which has poor performance.  Consider joining all columns at once using pd.concat(axis=1) instead. To get a de-fragmented frame, use `newframe = frame.copy()`\n",
      "  count_by_region[c + '_percent'] = count_by_region[c] / count_by_region['total']\n",
      "/home/connermanuel/cider/cider/featurizer.py:367: PerformanceWarning: DataFrame is highly fragmented.  This is usually the result of calling `frame.insert` many times, which has poor performance.  Consider joining all columns at once using pd.concat(axis=1) instead. To get a de-fragmented frame, use `newframe = frame.copy()`\n",
      "  count_by_region[c + '_percent'] = count_by_region[c] / count_by_region['total']\n",
      "/home/connermanuel/cider/cider/featurizer.py:367: PerformanceWarning: DataFrame is highly fragmented.  This is usually the result of calling `frame.insert` many times, which has poor performance.  Consider joining all columns at once using pd.concat(axis=1) instead. To get a de-fragmented frame, use `newframe = frame.copy()`\n",
      "  count_by_region[c + '_percent'] = count_by_region[c] / count_by_region['total']\n",
      "/home/connermanuel/cider/cider/featurizer.py:367: PerformanceWarning: DataFrame is highly fragmented.  This is usually the result of calling `frame.insert` many times, which has poor performance.  Consider joining all columns at once using pd.concat(axis=1) instead. To get a de-fragmented frame, use `newframe = frame.copy()`\n",
      "  count_by_region[c + '_percent'] = count_by_region[c] / count_by_region['total']\n",
      "/home/connermanuel/cider/cider/featurizer.py:367: PerformanceWarning: DataFrame is highly fragmented.  This is usually the result of calling `frame.insert` many times, which has poor performance.  Consider joining all columns at once using pd.concat(axis=1) instead. To get a de-fragmented frame, use `newframe = frame.copy()`\n",
      "  count_by_region[c + '_percent'] = count_by_region[c] / count_by_region['total']\n",
      "/home/connermanuel/cider/cider/featurizer.py:367: PerformanceWarning: DataFrame is highly fragmented.  This is usually the result of calling `frame.insert` many times, which has poor performance.  Consider joining all columns at once using pd.concat(axis=1) instead. To get a de-fragmented frame, use `newframe = frame.copy()`\n",
      "  count_by_region[c + '_percent'] = count_by_region[c] / count_by_region['total']\n",
      "/home/connermanuel/cider/cider/featurizer.py:367: PerformanceWarning: DataFrame is highly fragmented.  This is usually the result of calling `frame.insert` many times, which has poor performance.  Consider joining all columns at once using pd.concat(axis=1) instead. To get a de-fragmented frame, use `newframe = frame.copy()`\n",
      "  count_by_region[c + '_percent'] = count_by_region[c] / count_by_region['total']\n",
      "/home/connermanuel/cider/cider/featurizer.py:367: PerformanceWarning: DataFrame is highly fragmented.  This is usually the result of calling `frame.insert` many times, which has poor performance.  Consider joining all columns at once using pd.concat(axis=1) instead. To get a de-fragmented frame, use `newframe = frame.copy()`\n",
      "  count_by_region[c + '_percent'] = count_by_region[c] / count_by_region['total']\n",
      "/home/connermanuel/cider/cider/featurizer.py:367: PerformanceWarning: DataFrame is highly fragmented.  This is usually the result of calling `frame.insert` many times, which has poor performance.  Consider joining all columns at once using pd.concat(axis=1) instead. To get a de-fragmented frame, use `newframe = frame.copy()`\n",
      "  count_by_region[c + '_percent'] = count_by_region[c] / count_by_region['total']\n",
      "/home/connermanuel/cider/cider/featurizer.py:367: PerformanceWarning: DataFrame is highly fragmented.  This is usually the result of calling `frame.insert` many times, which has poor performance.  Consider joining all columns at once using pd.concat(axis=1) instead. To get a de-fragmented frame, use `newframe = frame.copy()`\n",
      "  count_by_region[c + '_percent'] = count_by_region[c] / count_by_region['total']\n",
      "/home/connermanuel/cider/cider/featurizer.py:367: PerformanceWarning: DataFrame is highly fragmented.  This is usually the result of calling `frame.insert` many times, which has poor performance.  Consider joining all columns at once using pd.concat(axis=1) instead. To get a de-fragmented frame, use `newframe = frame.copy()`\n",
      "  count_by_region[c + '_percent'] = count_by_region[c] / count_by_region['total']\n",
      "/home/connermanuel/cider/cider/featurizer.py:367: PerformanceWarning: DataFrame is highly fragmented.  This is usually the result of calling `frame.insert` many times, which has poor performance.  Consider joining all columns at once using pd.concat(axis=1) instead. To get a de-fragmented frame, use `newframe = frame.copy()`\n",
      "  count_by_region[c + '_percent'] = count_by_region[c] / count_by_region['total']\n",
      "/home/connermanuel/cider/cider/featurizer.py:367: PerformanceWarning: DataFrame is highly fragmented.  This is usually the result of calling `frame.insert` many times, which has poor performance.  Consider joining all columns at once using pd.concat(axis=1) instead. To get a de-fragmented frame, use `newframe = frame.copy()`\n",
      "  count_by_region[c + '_percent'] = count_by_region[c] / count_by_region['total']\n",
      "/home/connermanuel/cider/cider/featurizer.py:367: PerformanceWarning: DataFrame is highly fragmented.  This is usually the result of calling `frame.insert` many times, which has poor performance.  Consider joining all columns at once using pd.concat(axis=1) instead. To get a de-fragmented frame, use `newframe = frame.copy()`\n",
      "  count_by_region[c + '_percent'] = count_by_region[c] / count_by_region['total']\n",
      "/home/connermanuel/cider/cider/featurizer.py:367: PerformanceWarning: DataFrame is highly fragmented.  This is usually the result of calling `frame.insert` many times, which has poor performance.  Consider joining all columns at once using pd.concat(axis=1) instead. To get a de-fragmented frame, use `newframe = frame.copy()`\n",
      "  count_by_region[c + '_percent'] = count_by_region[c] / count_by_region['total']\n",
      "/home/connermanuel/cider/cider/featurizer.py:367: PerformanceWarning: DataFrame is highly fragmented.  This is usually the result of calling `frame.insert` many times, which has poor performance.  Consider joining all columns at once using pd.concat(axis=1) instead. To get a de-fragmented frame, use `newframe = frame.copy()`\n",
      "  count_by_region[c + '_percent'] = count_by_region[c] / count_by_region['total']\n",
      "/home/connermanuel/cider/cider/featurizer.py:367: PerformanceWarning: DataFrame is highly fragmented.  This is usually the result of calling `frame.insert` many times, which has poor performance.  Consider joining all columns at once using pd.concat(axis=1) instead. To get a de-fragmented frame, use `newframe = frame.copy()`\n",
      "  count_by_region[c + '_percent'] = count_by_region[c] / count_by_region['total']\n",
      "/home/connermanuel/cider/cider/featurizer.py:367: PerformanceWarning: DataFrame is highly fragmented.  This is usually the result of calling `frame.insert` many times, which has poor performance.  Consider joining all columns at once using pd.concat(axis=1) instead. To get a de-fragmented frame, use `newframe = frame.copy()`\n",
      "  count_by_region[c + '_percent'] = count_by_region[c] / count_by_region['total']\n",
      "/home/connermanuel/cider/cider/featurizer.py:367: PerformanceWarning: DataFrame is highly fragmented.  This is usually the result of calling `frame.insert` many times, which has poor performance.  Consider joining all columns at once using pd.concat(axis=1) instead. To get a de-fragmented frame, use `newframe = frame.copy()`\n",
      "  count_by_region[c + '_percent'] = count_by_region[c] / count_by_region['total']\n",
      "/home/connermanuel/cider/cider/featurizer.py:367: PerformanceWarning: DataFrame is highly fragmented.  This is usually the result of calling `frame.insert` many times, which has poor performance.  Consider joining all columns at once using pd.concat(axis=1) instead. To get a de-fragmented frame, use `newframe = frame.copy()`\n",
      "  count_by_region[c + '_percent'] = count_by_region[c] / count_by_region['total']\n",
      "/home/connermanuel/cider/cider/featurizer.py:367: PerformanceWarning: DataFrame is highly fragmented.  This is usually the result of calling `frame.insert` many times, which has poor performance.  Consider joining all columns at once using pd.concat(axis=1) instead. To get a de-fragmented frame, use `newframe = frame.copy()`\n",
      "  count_by_region[c + '_percent'] = count_by_region[c] / count_by_region['total']\n",
      "/home/connermanuel/cider/cider/featurizer.py:367: PerformanceWarning: DataFrame is highly fragmented.  This is usually the result of calling `frame.insert` many times, which has poor performance.  Consider joining all columns at once using pd.concat(axis=1) instead. To get a de-fragmented frame, use `newframe = frame.copy()`\n",
      "  count_by_region[c + '_percent'] = count_by_region[c] / count_by_region['total']\n",
      "/home/connermanuel/cider/cider/featurizer.py:367: PerformanceWarning: DataFrame is highly fragmented.  This is usually the result of calling `frame.insert` many times, which has poor performance.  Consider joining all columns at once using pd.concat(axis=1) instead. To get a de-fragmented frame, use `newframe = frame.copy()`\n",
      "  count_by_region[c + '_percent'] = count_by_region[c] / count_by_region['total']\n",
      "/home/connermanuel/cider/cider/featurizer.py:367: PerformanceWarning: DataFrame is highly fragmented.  This is usually the result of calling `frame.insert` many times, which has poor performance.  Consider joining all columns at once using pd.concat(axis=1) instead. To get a de-fragmented frame, use `newframe = frame.copy()`\n",
      "  count_by_region[c + '_percent'] = count_by_region[c] / count_by_region['total']\n"
     ]
    },
    {
     "name": "stderr",
     "output_type": "stream",
     "text": [
      "/home/connermanuel/cider/cider/featurizer.py:367: PerformanceWarning: DataFrame is highly fragmented.  This is usually the result of calling `frame.insert` many times, which has poor performance.  Consider joining all columns at once using pd.concat(axis=1) instead. To get a de-fragmented frame, use `newframe = frame.copy()`\n",
      "  count_by_region[c + '_percent'] = count_by_region[c] / count_by_region['total']\n",
      "/home/connermanuel/cider/cider/featurizer.py:367: PerformanceWarning: DataFrame is highly fragmented.  This is usually the result of calling `frame.insert` many times, which has poor performance.  Consider joining all columns at once using pd.concat(axis=1) instead. To get a de-fragmented frame, use `newframe = frame.copy()`\n",
      "  count_by_region[c + '_percent'] = count_by_region[c] / count_by_region['total']\n",
      "/home/connermanuel/cider/cider/featurizer.py:367: PerformanceWarning: DataFrame is highly fragmented.  This is usually the result of calling `frame.insert` many times, which has poor performance.  Consider joining all columns at once using pd.concat(axis=1) instead. To get a de-fragmented frame, use `newframe = frame.copy()`\n",
      "  count_by_region[c + '_percent'] = count_by_region[c] / count_by_region['total']\n",
      "/home/connermanuel/cider/cider/featurizer.py:367: PerformanceWarning: DataFrame is highly fragmented.  This is usually the result of calling `frame.insert` many times, which has poor performance.  Consider joining all columns at once using pd.concat(axis=1) instead. To get a de-fragmented frame, use `newframe = frame.copy()`\n",
      "  count_by_region[c + '_percent'] = count_by_region[c] / count_by_region['total']\n",
      "/home/connermanuel/cider/cider/featurizer.py:367: PerformanceWarning: DataFrame is highly fragmented.  This is usually the result of calling `frame.insert` many times, which has poor performance.  Consider joining all columns at once using pd.concat(axis=1) instead. To get a de-fragmented frame, use `newframe = frame.copy()`\n",
      "  count_by_region[c + '_percent'] = count_by_region[c] / count_by_region['total']\n",
      "/home/connermanuel/cider/cider/featurizer.py:367: PerformanceWarning: DataFrame is highly fragmented.  This is usually the result of calling `frame.insert` many times, which has poor performance.  Consider joining all columns at once using pd.concat(axis=1) instead. To get a de-fragmented frame, use `newframe = frame.copy()`\n",
      "  count_by_region[c + '_percent'] = count_by_region[c] / count_by_region['total']\n",
      "/home/connermanuel/cider/cider/featurizer.py:367: PerformanceWarning: DataFrame is highly fragmented.  This is usually the result of calling `frame.insert` many times, which has poor performance.  Consider joining all columns at once using pd.concat(axis=1) instead. To get a de-fragmented frame, use `newframe = frame.copy()`\n",
      "  count_by_region[c + '_percent'] = count_by_region[c] / count_by_region['total']\n",
      "/home/connermanuel/cider/cider/featurizer.py:367: PerformanceWarning: DataFrame is highly fragmented.  This is usually the result of calling `frame.insert` many times, which has poor performance.  Consider joining all columns at once using pd.concat(axis=1) instead. To get a de-fragmented frame, use `newframe = frame.copy()`\n",
      "  count_by_region[c + '_percent'] = count_by_region[c] / count_by_region['total']\n",
      "/home/connermanuel/cider/cider/featurizer.py:367: PerformanceWarning: DataFrame is highly fragmented.  This is usually the result of calling `frame.insert` many times, which has poor performance.  Consider joining all columns at once using pd.concat(axis=1) instead. To get a de-fragmented frame, use `newframe = frame.copy()`\n",
      "  count_by_region[c + '_percent'] = count_by_region[c] / count_by_region['total']\n",
      "/home/connermanuel/cider/cider/featurizer.py:367: PerformanceWarning: DataFrame is highly fragmented.  This is usually the result of calling `frame.insert` many times, which has poor performance.  Consider joining all columns at once using pd.concat(axis=1) instead. To get a de-fragmented frame, use `newframe = frame.copy()`\n",
      "  count_by_region[c + '_percent'] = count_by_region[c] / count_by_region['total']\n",
      "/home/connermanuel/cider/cider/featurizer.py:367: PerformanceWarning: DataFrame is highly fragmented.  This is usually the result of calling `frame.insert` many times, which has poor performance.  Consider joining all columns at once using pd.concat(axis=1) instead. To get a de-fragmented frame, use `newframe = frame.copy()`\n",
      "  count_by_region[c + '_percent'] = count_by_region[c] / count_by_region['total']\n",
      "/home/connermanuel/cider/cider/featurizer.py:367: PerformanceWarning: DataFrame is highly fragmented.  This is usually the result of calling `frame.insert` many times, which has poor performance.  Consider joining all columns at once using pd.concat(axis=1) instead. To get a de-fragmented frame, use `newframe = frame.copy()`\n",
      "  count_by_region[c + '_percent'] = count_by_region[c] / count_by_region['total']\n",
      "/home/connermanuel/cider/cider/featurizer.py:367: PerformanceWarning: DataFrame is highly fragmented.  This is usually the result of calling `frame.insert` many times, which has poor performance.  Consider joining all columns at once using pd.concat(axis=1) instead. To get a de-fragmented frame, use `newframe = frame.copy()`\n",
      "  count_by_region[c + '_percent'] = count_by_region[c] / count_by_region['total']\n",
      "/home/connermanuel/cider/cider/featurizer.py:367: PerformanceWarning: DataFrame is highly fragmented.  This is usually the result of calling `frame.insert` many times, which has poor performance.  Consider joining all columns at once using pd.concat(axis=1) instead. To get a de-fragmented frame, use `newframe = frame.copy()`\n",
      "  count_by_region[c + '_percent'] = count_by_region[c] / count_by_region['total']\n",
      "/home/connermanuel/cider/cider/featurizer.py:367: PerformanceWarning: DataFrame is highly fragmented.  This is usually the result of calling `frame.insert` many times, which has poor performance.  Consider joining all columns at once using pd.concat(axis=1) instead. To get a de-fragmented frame, use `newframe = frame.copy()`\n",
      "  count_by_region[c + '_percent'] = count_by_region[c] / count_by_region['total']\n",
      "/home/connermanuel/cider/cider/featurizer.py:367: PerformanceWarning: DataFrame is highly fragmented.  This is usually the result of calling `frame.insert` many times, which has poor performance.  Consider joining all columns at once using pd.concat(axis=1) instead. To get a de-fragmented frame, use `newframe = frame.copy()`\n",
      "  count_by_region[c + '_percent'] = count_by_region[c] / count_by_region['total']\n",
      "/home/connermanuel/cider/cider/featurizer.py:367: PerformanceWarning: DataFrame is highly fragmented.  This is usually the result of calling `frame.insert` many times, which has poor performance.  Consider joining all columns at once using pd.concat(axis=1) instead. To get a de-fragmented frame, use `newframe = frame.copy()`\n",
      "  count_by_region[c + '_percent'] = count_by_region[c] / count_by_region['total']\n",
      "/home/connermanuel/cider/cider/featurizer.py:367: PerformanceWarning: DataFrame is highly fragmented.  This is usually the result of calling `frame.insert` many times, which has poor performance.  Consider joining all columns at once using pd.concat(axis=1) instead. To get a de-fragmented frame, use `newframe = frame.copy()`\n",
      "  count_by_region[c + '_percent'] = count_by_region[c] / count_by_region['total']\n",
      "/home/connermanuel/cider/cider/featurizer.py:367: PerformanceWarning: DataFrame is highly fragmented.  This is usually the result of calling `frame.insert` many times, which has poor performance.  Consider joining all columns at once using pd.concat(axis=1) instead. To get a de-fragmented frame, use `newframe = frame.copy()`\n",
      "  count_by_region[c + '_percent'] = count_by_region[c] / count_by_region['total']\n",
      "/home/connermanuel/cider/cider/featurizer.py:367: PerformanceWarning: DataFrame is highly fragmented.  This is usually the result of calling `frame.insert` many times, which has poor performance.  Consider joining all columns at once using pd.concat(axis=1) instead. To get a de-fragmented frame, use `newframe = frame.copy()`\n",
      "  count_by_region[c + '_percent'] = count_by_region[c] / count_by_region['total']\n",
      "/home/connermanuel/cider/cider/featurizer.py:367: PerformanceWarning: DataFrame is highly fragmented.  This is usually the result of calling `frame.insert` many times, which has poor performance.  Consider joining all columns at once using pd.concat(axis=1) instead. To get a de-fragmented frame, use `newframe = frame.copy()`\n",
      "  count_by_region[c + '_percent'] = count_by_region[c] / count_by_region['total']\n",
      "/home/connermanuel/cider/cider/featurizer.py:367: PerformanceWarning: DataFrame is highly fragmented.  This is usually the result of calling `frame.insert` many times, which has poor performance.  Consider joining all columns at once using pd.concat(axis=1) instead. To get a de-fragmented frame, use `newframe = frame.copy()`\n",
      "  count_by_region[c + '_percent'] = count_by_region[c] / count_by_region['total']\n",
      "/home/connermanuel/cider/cider/featurizer.py:367: PerformanceWarning: DataFrame is highly fragmented.  This is usually the result of calling `frame.insert` many times, which has poor performance.  Consider joining all columns at once using pd.concat(axis=1) instead. To get a de-fragmented frame, use `newframe = frame.copy()`\n",
      "  count_by_region[c + '_percent'] = count_by_region[c] / count_by_region['total']\n",
      "/home/connermanuel/cider/cider/featurizer.py:367: PerformanceWarning: DataFrame is highly fragmented.  This is usually the result of calling `frame.insert` many times, which has poor performance.  Consider joining all columns at once using pd.concat(axis=1) instead. To get a de-fragmented frame, use `newframe = frame.copy()`\n",
      "  count_by_region[c + '_percent'] = count_by_region[c] / count_by_region['total']\n",
      "/home/connermanuel/cider/cider/featurizer.py:367: PerformanceWarning: DataFrame is highly fragmented.  This is usually the result of calling `frame.insert` many times, which has poor performance.  Consider joining all columns at once using pd.concat(axis=1) instead. To get a de-fragmented frame, use `newframe = frame.copy()`\n",
      "  count_by_region[c + '_percent'] = count_by_region[c] / count_by_region['total']\n",
      "/home/connermanuel/cider/cider/featurizer.py:367: PerformanceWarning: DataFrame is highly fragmented.  This is usually the result of calling `frame.insert` many times, which has poor performance.  Consider joining all columns at once using pd.concat(axis=1) instead. To get a de-fragmented frame, use `newframe = frame.copy()`\n",
      "  count_by_region[c + '_percent'] = count_by_region[c] / count_by_region['total']\n",
      "/home/connermanuel/cider/cider/featurizer.py:367: PerformanceWarning: DataFrame is highly fragmented.  This is usually the result of calling `frame.insert` many times, which has poor performance.  Consider joining all columns at once using pd.concat(axis=1) instead. To get a de-fragmented frame, use `newframe = frame.copy()`\n",
      "  count_by_region[c + '_percent'] = count_by_region[c] / count_by_region['total']\n",
      "/home/connermanuel/cider/cider/featurizer.py:367: PerformanceWarning: DataFrame is highly fragmented.  This is usually the result of calling `frame.insert` many times, which has poor performance.  Consider joining all columns at once using pd.concat(axis=1) instead. To get a de-fragmented frame, use `newframe = frame.copy()`\n",
      "  count_by_region[c + '_percent'] = count_by_region[c] / count_by_region['total']\n"
     ]
    },
    {
     "name": "stderr",
     "output_type": "stream",
     "text": [
      "/home/connermanuel/cider/cider/featurizer.py:367: PerformanceWarning: DataFrame is highly fragmented.  This is usually the result of calling `frame.insert` many times, which has poor performance.  Consider joining all columns at once using pd.concat(axis=1) instead. To get a de-fragmented frame, use `newframe = frame.copy()`\n",
      "  count_by_region[c + '_percent'] = count_by_region[c] / count_by_region['total']\n",
      "/home/connermanuel/cider/cider/featurizer.py:367: PerformanceWarning: DataFrame is highly fragmented.  This is usually the result of calling `frame.insert` many times, which has poor performance.  Consider joining all columns at once using pd.concat(axis=1) instead. To get a de-fragmented frame, use `newframe = frame.copy()`\n",
      "  count_by_region[c + '_percent'] = count_by_region[c] / count_by_region['total']\n",
      "/home/connermanuel/cider/cider/featurizer.py:367: PerformanceWarning: DataFrame is highly fragmented.  This is usually the result of calling `frame.insert` many times, which has poor performance.  Consider joining all columns at once using pd.concat(axis=1) instead. To get a de-fragmented frame, use `newframe = frame.copy()`\n",
      "  count_by_region[c + '_percent'] = count_by_region[c] / count_by_region['total']\n",
      "/home/connermanuel/cider/cider/featurizer.py:367: PerformanceWarning: DataFrame is highly fragmented.  This is usually the result of calling `frame.insert` many times, which has poor performance.  Consider joining all columns at once using pd.concat(axis=1) instead. To get a de-fragmented frame, use `newframe = frame.copy()`\n",
      "  count_by_region[c + '_percent'] = count_by_region[c] / count_by_region['total']\n",
      "/home/connermanuel/cider/cider/featurizer.py:367: PerformanceWarning: DataFrame is highly fragmented.  This is usually the result of calling `frame.insert` many times, which has poor performance.  Consider joining all columns at once using pd.concat(axis=1) instead. To get a de-fragmented frame, use `newframe = frame.copy()`\n",
      "  count_by_region[c + '_percent'] = count_by_region[c] / count_by_region['total']\n",
      "/home/connermanuel/cider/cider/featurizer.py:367: PerformanceWarning: DataFrame is highly fragmented.  This is usually the result of calling `frame.insert` many times, which has poor performance.  Consider joining all columns at once using pd.concat(axis=1) instead. To get a de-fragmented frame, use `newframe = frame.copy()`\n",
      "  count_by_region[c + '_percent'] = count_by_region[c] / count_by_region['total']\n",
      "/home/connermanuel/cider/cider/featurizer.py:367: PerformanceWarning: DataFrame is highly fragmented.  This is usually the result of calling `frame.insert` many times, which has poor performance.  Consider joining all columns at once using pd.concat(axis=1) instead. To get a de-fragmented frame, use `newframe = frame.copy()`\n",
      "  count_by_region[c + '_percent'] = count_by_region[c] / count_by_region['total']\n",
      "/home/connermanuel/cider/cider/featurizer.py:367: PerformanceWarning: DataFrame is highly fragmented.  This is usually the result of calling `frame.insert` many times, which has poor performance.  Consider joining all columns at once using pd.concat(axis=1) instead. To get a de-fragmented frame, use `newframe = frame.copy()`\n",
      "  count_by_region[c + '_percent'] = count_by_region[c] / count_by_region['total']\n",
      "/home/connermanuel/cider/cider/featurizer.py:367: PerformanceWarning: DataFrame is highly fragmented.  This is usually the result of calling `frame.insert` many times, which has poor performance.  Consider joining all columns at once using pd.concat(axis=1) instead. To get a de-fragmented frame, use `newframe = frame.copy()`\n",
      "  count_by_region[c + '_percent'] = count_by_region[c] / count_by_region['total']\n",
      "/home/connermanuel/cider/cider/featurizer.py:367: PerformanceWarning: DataFrame is highly fragmented.  This is usually the result of calling `frame.insert` many times, which has poor performance.  Consider joining all columns at once using pd.concat(axis=1) instead. To get a de-fragmented frame, use `newframe = frame.copy()`\n",
      "  count_by_region[c + '_percent'] = count_by_region[c] / count_by_region['total']\n",
      "/home/connermanuel/cider/cider/featurizer.py:367: PerformanceWarning: DataFrame is highly fragmented.  This is usually the result of calling `frame.insert` many times, which has poor performance.  Consider joining all columns at once using pd.concat(axis=1) instead. To get a de-fragmented frame, use `newframe = frame.copy()`\n",
      "  count_by_region[c + '_percent'] = count_by_region[c] / count_by_region['total']\n",
      "/home/connermanuel/cider/cider/featurizer.py:367: PerformanceWarning: DataFrame is highly fragmented.  This is usually the result of calling `frame.insert` many times, which has poor performance.  Consider joining all columns at once using pd.concat(axis=1) instead. To get a de-fragmented frame, use `newframe = frame.copy()`\n",
      "  count_by_region[c + '_percent'] = count_by_region[c] / count_by_region['total']\n",
      "/home/connermanuel/cider/cider/featurizer.py:367: PerformanceWarning: DataFrame is highly fragmented.  This is usually the result of calling `frame.insert` many times, which has poor performance.  Consider joining all columns at once using pd.concat(axis=1) instead. To get a de-fragmented frame, use `newframe = frame.copy()`\n",
      "  count_by_region[c + '_percent'] = count_by_region[c] / count_by_region['total']\n",
      "/home/connermanuel/cider/cider/featurizer.py:367: PerformanceWarning: DataFrame is highly fragmented.  This is usually the result of calling `frame.insert` many times, which has poor performance.  Consider joining all columns at once using pd.concat(axis=1) instead. To get a de-fragmented frame, use `newframe = frame.copy()`\n",
      "  count_by_region[c + '_percent'] = count_by_region[c] / count_by_region['total']\n",
      "/home/connermanuel/cider/cider/featurizer.py:367: PerformanceWarning: DataFrame is highly fragmented.  This is usually the result of calling `frame.insert` many times, which has poor performance.  Consider joining all columns at once using pd.concat(axis=1) instead. To get a de-fragmented frame, use `newframe = frame.copy()`\n",
      "  count_by_region[c + '_percent'] = count_by_region[c] / count_by_region['total']\n",
      "/home/connermanuel/cider/cider/featurizer.py:367: PerformanceWarning: DataFrame is highly fragmented.  This is usually the result of calling `frame.insert` many times, which has poor performance.  Consider joining all columns at once using pd.concat(axis=1) instead. To get a de-fragmented frame, use `newframe = frame.copy()`\n",
      "  count_by_region[c + '_percent'] = count_by_region[c] / count_by_region['total']\n",
      "/home/connermanuel/cider/cider/featurizer.py:367: PerformanceWarning: DataFrame is highly fragmented.  This is usually the result of calling `frame.insert` many times, which has poor performance.  Consider joining all columns at once using pd.concat(axis=1) instead. To get a de-fragmented frame, use `newframe = frame.copy()`\n",
      "  count_by_region[c + '_percent'] = count_by_region[c] / count_by_region['total']\n",
      "/home/connermanuel/cider/cider/featurizer.py:367: PerformanceWarning: DataFrame is highly fragmented.  This is usually the result of calling `frame.insert` many times, which has poor performance.  Consider joining all columns at once using pd.concat(axis=1) instead. To get a de-fragmented frame, use `newframe = frame.copy()`\n",
      "  count_by_region[c + '_percent'] = count_by_region[c] / count_by_region['total']\n",
      "/home/connermanuel/cider/cider/featurizer.py:367: PerformanceWarning: DataFrame is highly fragmented.  This is usually the result of calling `frame.insert` many times, which has poor performance.  Consider joining all columns at once using pd.concat(axis=1) instead. To get a de-fragmented frame, use `newframe = frame.copy()`\n",
      "  count_by_region[c + '_percent'] = count_by_region[c] / count_by_region['total']\n",
      "/home/connermanuel/cider/cider/featurizer.py:367: PerformanceWarning: DataFrame is highly fragmented.  This is usually the result of calling `frame.insert` many times, which has poor performance.  Consider joining all columns at once using pd.concat(axis=1) instead. To get a de-fragmented frame, use `newframe = frame.copy()`\n",
      "  count_by_region[c + '_percent'] = count_by_region[c] / count_by_region['total']\n",
      "/home/connermanuel/cider/cider/featurizer.py:367: PerformanceWarning: DataFrame is highly fragmented.  This is usually the result of calling `frame.insert` many times, which has poor performance.  Consider joining all columns at once using pd.concat(axis=1) instead. To get a de-fragmented frame, use `newframe = frame.copy()`\n",
      "  count_by_region[c + '_percent'] = count_by_region[c] / count_by_region['total']\n",
      "/home/connermanuel/cider/cider/featurizer.py:367: PerformanceWarning: DataFrame is highly fragmented.  This is usually the result of calling `frame.insert` many times, which has poor performance.  Consider joining all columns at once using pd.concat(axis=1) instead. To get a de-fragmented frame, use `newframe = frame.copy()`\n",
      "  count_by_region[c + '_percent'] = count_by_region[c] / count_by_region['total']\n",
      "/home/connermanuel/cider/cider/featurizer.py:367: PerformanceWarning: DataFrame is highly fragmented.  This is usually the result of calling `frame.insert` many times, which has poor performance.  Consider joining all columns at once using pd.concat(axis=1) instead. To get a de-fragmented frame, use `newframe = frame.copy()`\n",
      "  count_by_region[c + '_percent'] = count_by_region[c] / count_by_region['total']\n",
      "/home/connermanuel/cider/cider/featurizer.py:367: PerformanceWarning: DataFrame is highly fragmented.  This is usually the result of calling `frame.insert` many times, which has poor performance.  Consider joining all columns at once using pd.concat(axis=1) instead. To get a de-fragmented frame, use `newframe = frame.copy()`\n",
      "  count_by_region[c + '_percent'] = count_by_region[c] / count_by_region['total']\n",
      "/home/connermanuel/cider/cider/featurizer.py:367: PerformanceWarning: DataFrame is highly fragmented.  This is usually the result of calling `frame.insert` many times, which has poor performance.  Consider joining all columns at once using pd.concat(axis=1) instead. To get a de-fragmented frame, use `newframe = frame.copy()`\n",
      "  count_by_region[c + '_percent'] = count_by_region[c] / count_by_region['total']\n",
      "/home/connermanuel/cider/cider/featurizer.py:367: PerformanceWarning: DataFrame is highly fragmented.  This is usually the result of calling `frame.insert` many times, which has poor performance.  Consider joining all columns at once using pd.concat(axis=1) instead. To get a de-fragmented frame, use `newframe = frame.copy()`\n",
      "  count_by_region[c + '_percent'] = count_by_region[c] / count_by_region['total']\n",
      "/home/connermanuel/cider/cider/featurizer.py:367: PerformanceWarning: DataFrame is highly fragmented.  This is usually the result of calling `frame.insert` many times, which has poor performance.  Consider joining all columns at once using pd.concat(axis=1) instead. To get a de-fragmented frame, use `newframe = frame.copy()`\n",
      "  count_by_region[c + '_percent'] = count_by_region[c] / count_by_region['total']\n",
      "/home/connermanuel/cider/cider/featurizer.py:367: PerformanceWarning: DataFrame is highly fragmented.  This is usually the result of calling `frame.insert` many times, which has poor performance.  Consider joining all columns at once using pd.concat(axis=1) instead. To get a de-fragmented frame, use `newframe = frame.copy()`\n",
      "  count_by_region[c + '_percent'] = count_by_region[c] / count_by_region['total']\n"
     ]
    },
    {
     "name": "stderr",
     "output_type": "stream",
     "text": [
      "/home/connermanuel/cider/cider/featurizer.py:367: PerformanceWarning: DataFrame is highly fragmented.  This is usually the result of calling `frame.insert` many times, which has poor performance.  Consider joining all columns at once using pd.concat(axis=1) instead. To get a de-fragmented frame, use `newframe = frame.copy()`\n",
      "  count_by_region[c + '_percent'] = count_by_region[c] / count_by_region['total']\n",
      "/home/connermanuel/cider/cider/featurizer.py:367: PerformanceWarning: DataFrame is highly fragmented.  This is usually the result of calling `frame.insert` many times, which has poor performance.  Consider joining all columns at once using pd.concat(axis=1) instead. To get a de-fragmented frame, use `newframe = frame.copy()`\n",
      "  count_by_region[c + '_percent'] = count_by_region[c] / count_by_region['total']\n",
      "/home/connermanuel/cider/cider/featurizer.py:367: PerformanceWarning: DataFrame is highly fragmented.  This is usually the result of calling `frame.insert` many times, which has poor performance.  Consider joining all columns at once using pd.concat(axis=1) instead. To get a de-fragmented frame, use `newframe = frame.copy()`\n",
      "  count_by_region[c + '_percent'] = count_by_region[c] / count_by_region['total']\n",
      "/home/connermanuel/cider/cider/featurizer.py:367: PerformanceWarning: DataFrame is highly fragmented.  This is usually the result of calling `frame.insert` many times, which has poor performance.  Consider joining all columns at once using pd.concat(axis=1) instead. To get a de-fragmented frame, use `newframe = frame.copy()`\n",
      "  count_by_region[c + '_percent'] = count_by_region[c] / count_by_region['total']\n",
      "/home/connermanuel/cider/cider/featurizer.py:367: PerformanceWarning: DataFrame is highly fragmented.  This is usually the result of calling `frame.insert` many times, which has poor performance.  Consider joining all columns at once using pd.concat(axis=1) instead. To get a de-fragmented frame, use `newframe = frame.copy()`\n",
      "  count_by_region[c + '_percent'] = count_by_region[c] / count_by_region['total']\n",
      "/home/connermanuel/cider/cider/featurizer.py:367: PerformanceWarning: DataFrame is highly fragmented.  This is usually the result of calling `frame.insert` many times, which has poor performance.  Consider joining all columns at once using pd.concat(axis=1) instead. To get a de-fragmented frame, use `newframe = frame.copy()`\n",
      "  count_by_region[c + '_percent'] = count_by_region[c] / count_by_region['total']\n",
      "/home/connermanuel/cider/cider/featurizer.py:367: PerformanceWarning: DataFrame is highly fragmented.  This is usually the result of calling `frame.insert` many times, which has poor performance.  Consider joining all columns at once using pd.concat(axis=1) instead. To get a de-fragmented frame, use `newframe = frame.copy()`\n",
      "  count_by_region[c + '_percent'] = count_by_region[c] / count_by_region['total']\n",
      "/home/connermanuel/cider/cider/featurizer.py:367: PerformanceWarning: DataFrame is highly fragmented.  This is usually the result of calling `frame.insert` many times, which has poor performance.  Consider joining all columns at once using pd.concat(axis=1) instead. To get a de-fragmented frame, use `newframe = frame.copy()`\n",
      "  count_by_region[c + '_percent'] = count_by_region[c] / count_by_region['total']\n",
      "/home/connermanuel/cider/cider/featurizer.py:367: PerformanceWarning: DataFrame is highly fragmented.  This is usually the result of calling `frame.insert` many times, which has poor performance.  Consider joining all columns at once using pd.concat(axis=1) instead. To get a de-fragmented frame, use `newframe = frame.copy()`\n",
      "  count_by_region[c + '_percent'] = count_by_region[c] / count_by_region['total']\n",
      "/home/connermanuel/cider/cider/featurizer.py:367: PerformanceWarning: DataFrame is highly fragmented.  This is usually the result of calling `frame.insert` many times, which has poor performance.  Consider joining all columns at once using pd.concat(axis=1) instead. To get a de-fragmented frame, use `newframe = frame.copy()`\n",
      "  count_by_region[c + '_percent'] = count_by_region[c] / count_by_region['total']\n",
      "/home/connermanuel/cider/cider/featurizer.py:367: PerformanceWarning: DataFrame is highly fragmented.  This is usually the result of calling `frame.insert` many times, which has poor performance.  Consider joining all columns at once using pd.concat(axis=1) instead. To get a de-fragmented frame, use `newframe = frame.copy()`\n",
      "  count_by_region[c + '_percent'] = count_by_region[c] / count_by_region['total']\n",
      "/home/connermanuel/cider/cider/featurizer.py:367: PerformanceWarning: DataFrame is highly fragmented.  This is usually the result of calling `frame.insert` many times, which has poor performance.  Consider joining all columns at once using pd.concat(axis=1) instead. To get a de-fragmented frame, use `newframe = frame.copy()`\n",
      "  count_by_region[c + '_percent'] = count_by_region[c] / count_by_region['total']\n",
      "/home/connermanuel/cider/cider/featurizer.py:367: PerformanceWarning: DataFrame is highly fragmented.  This is usually the result of calling `frame.insert` many times, which has poor performance.  Consider joining all columns at once using pd.concat(axis=1) instead. To get a de-fragmented frame, use `newframe = frame.copy()`\n",
      "  count_by_region[c + '_percent'] = count_by_region[c] / count_by_region['total']\n",
      "/home/connermanuel/cider/cider/featurizer.py:367: PerformanceWarning: DataFrame is highly fragmented.  This is usually the result of calling `frame.insert` many times, which has poor performance.  Consider joining all columns at once using pd.concat(axis=1) instead. To get a de-fragmented frame, use `newframe = frame.copy()`\n",
      "  count_by_region[c + '_percent'] = count_by_region[c] / count_by_region['total']\n",
      "/home/connermanuel/cider/cider/featurizer.py:367: PerformanceWarning: DataFrame is highly fragmented.  This is usually the result of calling `frame.insert` many times, which has poor performance.  Consider joining all columns at once using pd.concat(axis=1) instead. To get a de-fragmented frame, use `newframe = frame.copy()`\n",
      "  count_by_region[c + '_percent'] = count_by_region[c] / count_by_region['total']\n",
      "/home/connermanuel/cider/cider/featurizer.py:367: PerformanceWarning: DataFrame is highly fragmented.  This is usually the result of calling `frame.insert` many times, which has poor performance.  Consider joining all columns at once using pd.concat(axis=1) instead. To get a de-fragmented frame, use `newframe = frame.copy()`\n",
      "  count_by_region[c + '_percent'] = count_by_region[c] / count_by_region['total']\n",
      "/home/connermanuel/cider/cider/featurizer.py:367: PerformanceWarning: DataFrame is highly fragmented.  This is usually the result of calling `frame.insert` many times, which has poor performance.  Consider joining all columns at once using pd.concat(axis=1) instead. To get a de-fragmented frame, use `newframe = frame.copy()`\n",
      "  count_by_region[c + '_percent'] = count_by_region[c] / count_by_region['total']\n",
      "/home/connermanuel/cider/cider/featurizer.py:367: PerformanceWarning: DataFrame is highly fragmented.  This is usually the result of calling `frame.insert` many times, which has poor performance.  Consider joining all columns at once using pd.concat(axis=1) instead. To get a de-fragmented frame, use `newframe = frame.copy()`\n",
      "  count_by_region[c + '_percent'] = count_by_region[c] / count_by_region['total']\n",
      "/home/connermanuel/cider/cider/featurizer.py:367: PerformanceWarning: DataFrame is highly fragmented.  This is usually the result of calling `frame.insert` many times, which has poor performance.  Consider joining all columns at once using pd.concat(axis=1) instead. To get a de-fragmented frame, use `newframe = frame.copy()`\n",
      "  count_by_region[c + '_percent'] = count_by_region[c] / count_by_region['total']\n",
      "/home/connermanuel/cider/cider/featurizer.py:367: PerformanceWarning: DataFrame is highly fragmented.  This is usually the result of calling `frame.insert` many times, which has poor performance.  Consider joining all columns at once using pd.concat(axis=1) instead. To get a de-fragmented frame, use `newframe = frame.copy()`\n",
      "  count_by_region[c + '_percent'] = count_by_region[c] / count_by_region['total']\n",
      "/home/connermanuel/cider/cider/featurizer.py:367: PerformanceWarning: DataFrame is highly fragmented.  This is usually the result of calling `frame.insert` many times, which has poor performance.  Consider joining all columns at once using pd.concat(axis=1) instead. To get a de-fragmented frame, use `newframe = frame.copy()`\n",
      "  count_by_region[c + '_percent'] = count_by_region[c] / count_by_region['total']\n",
      "/home/connermanuel/cider/cider/featurizer.py:367: PerformanceWarning: DataFrame is highly fragmented.  This is usually the result of calling `frame.insert` many times, which has poor performance.  Consider joining all columns at once using pd.concat(axis=1) instead. To get a de-fragmented frame, use `newframe = frame.copy()`\n",
      "  count_by_region[c + '_percent'] = count_by_region[c] / count_by_region['total']\n",
      "/home/connermanuel/cider/cider/featurizer.py:367: PerformanceWarning: DataFrame is highly fragmented.  This is usually the result of calling `frame.insert` many times, which has poor performance.  Consider joining all columns at once using pd.concat(axis=1) instead. To get a de-fragmented frame, use `newframe = frame.copy()`\n",
      "  count_by_region[c + '_percent'] = count_by_region[c] / count_by_region['total']\n",
      "/home/connermanuel/cider/cider/featurizer.py:367: PerformanceWarning: DataFrame is highly fragmented.  This is usually the result of calling `frame.insert` many times, which has poor performance.  Consider joining all columns at once using pd.concat(axis=1) instead. To get a de-fragmented frame, use `newframe = frame.copy()`\n",
      "  count_by_region[c + '_percent'] = count_by_region[c] / count_by_region['total']\n",
      "/home/connermanuel/cider/cider/featurizer.py:367: PerformanceWarning: DataFrame is highly fragmented.  This is usually the result of calling `frame.insert` many times, which has poor performance.  Consider joining all columns at once using pd.concat(axis=1) instead. To get a de-fragmented frame, use `newframe = frame.copy()`\n",
      "  count_by_region[c + '_percent'] = count_by_region[c] / count_by_region['total']\n",
      "/home/connermanuel/cider/cider/featurizer.py:367: PerformanceWarning: DataFrame is highly fragmented.  This is usually the result of calling `frame.insert` many times, which has poor performance.  Consider joining all columns at once using pd.concat(axis=1) instead. To get a de-fragmented frame, use `newframe = frame.copy()`\n",
      "  count_by_region[c + '_percent'] = count_by_region[c] / count_by_region['total']\n",
      "/home/connermanuel/cider/cider/featurizer.py:367: PerformanceWarning: DataFrame is highly fragmented.  This is usually the result of calling `frame.insert` many times, which has poor performance.  Consider joining all columns at once using pd.concat(axis=1) instead. To get a de-fragmented frame, use `newframe = frame.copy()`\n",
      "  count_by_region[c + '_percent'] = count_by_region[c] / count_by_region['total']\n",
      "/home/connermanuel/cider/cider/featurizer.py:367: PerformanceWarning: DataFrame is highly fragmented.  This is usually the result of calling `frame.insert` many times, which has poor performance.  Consider joining all columns at once using pd.concat(axis=1) instead. To get a de-fragmented frame, use `newframe = frame.copy()`\n",
      "  count_by_region[c + '_percent'] = count_by_region[c] / count_by_region['total']\n",
      "/home/connermanuel/cider/cider/featurizer.py:367: PerformanceWarning: DataFrame is highly fragmented.  This is usually the result of calling `frame.insert` many times, which has poor performance.  Consider joining all columns at once using pd.concat(axis=1) instead. To get a de-fragmented frame, use `newframe = frame.copy()`\n",
      "  count_by_region[c + '_percent'] = count_by_region[c] / count_by_region['total']\n"
     ]
    },
    {
     "name": "stderr",
     "output_type": "stream",
     "text": [
      "/home/connermanuel/cider/cider/featurizer.py:367: PerformanceWarning: DataFrame is highly fragmented.  This is usually the result of calling `frame.insert` many times, which has poor performance.  Consider joining all columns at once using pd.concat(axis=1) instead. To get a de-fragmented frame, use `newframe = frame.copy()`\n",
      "  count_by_region[c + '_percent'] = count_by_region[c] / count_by_region['total']\n",
      "/home/connermanuel/cider/cider/featurizer.py:367: PerformanceWarning: DataFrame is highly fragmented.  This is usually the result of calling `frame.insert` many times, which has poor performance.  Consider joining all columns at once using pd.concat(axis=1) instead. To get a de-fragmented frame, use `newframe = frame.copy()`\n",
      "  count_by_region[c + '_percent'] = count_by_region[c] / count_by_region['total']\n",
      "/home/connermanuel/cider/cider/featurizer.py:367: PerformanceWarning: DataFrame is highly fragmented.  This is usually the result of calling `frame.insert` many times, which has poor performance.  Consider joining all columns at once using pd.concat(axis=1) instead. To get a de-fragmented frame, use `newframe = frame.copy()`\n",
      "  count_by_region[c + '_percent'] = count_by_region[c] / count_by_region['total']\n",
      "/home/connermanuel/cider/cider/featurizer.py:367: PerformanceWarning: DataFrame is highly fragmented.  This is usually the result of calling `frame.insert` many times, which has poor performance.  Consider joining all columns at once using pd.concat(axis=1) instead. To get a de-fragmented frame, use `newframe = frame.copy()`\n",
      "  count_by_region[c + '_percent'] = count_by_region[c] / count_by_region['total']\n",
      "/home/connermanuel/cider/cider/featurizer.py:367: PerformanceWarning: DataFrame is highly fragmented.  This is usually the result of calling `frame.insert` many times, which has poor performance.  Consider joining all columns at once using pd.concat(axis=1) instead. To get a de-fragmented frame, use `newframe = frame.copy()`\n",
      "  count_by_region[c + '_percent'] = count_by_region[c] / count_by_region['total']\n",
      "/home/connermanuel/cider/cider/featurizer.py:367: PerformanceWarning: DataFrame is highly fragmented.  This is usually the result of calling `frame.insert` many times, which has poor performance.  Consider joining all columns at once using pd.concat(axis=1) instead. To get a de-fragmented frame, use `newframe = frame.copy()`\n",
      "  count_by_region[c + '_percent'] = count_by_region[c] / count_by_region['total']\n",
      "/home/connermanuel/cider/cider/featurizer.py:367: PerformanceWarning: DataFrame is highly fragmented.  This is usually the result of calling `frame.insert` many times, which has poor performance.  Consider joining all columns at once using pd.concat(axis=1) instead. To get a de-fragmented frame, use `newframe = frame.copy()`\n",
      "  count_by_region[c + '_percent'] = count_by_region[c] / count_by_region['total']\n",
      "/home/connermanuel/cider/cider/featurizer.py:367: PerformanceWarning: DataFrame is highly fragmented.  This is usually the result of calling `frame.insert` many times, which has poor performance.  Consider joining all columns at once using pd.concat(axis=1) instead. To get a de-fragmented frame, use `newframe = frame.copy()`\n",
      "  count_by_region[c + '_percent'] = count_by_region[c] / count_by_region['total']\n",
      "/home/connermanuel/cider/cider/featurizer.py:367: PerformanceWarning: DataFrame is highly fragmented.  This is usually the result of calling `frame.insert` many times, which has poor performance.  Consider joining all columns at once using pd.concat(axis=1) instead. To get a de-fragmented frame, use `newframe = frame.copy()`\n",
      "  count_by_region[c + '_percent'] = count_by_region[c] / count_by_region['total']\n",
      "/home/connermanuel/cider/cider/featurizer.py:367: PerformanceWarning: DataFrame is highly fragmented.  This is usually the result of calling `frame.insert` many times, which has poor performance.  Consider joining all columns at once using pd.concat(axis=1) instead. To get a de-fragmented frame, use `newframe = frame.copy()`\n",
      "  count_by_region[c + '_percent'] = count_by_region[c] / count_by_region['total']\n",
      "/home/connermanuel/cider/cider/featurizer.py:367: PerformanceWarning: DataFrame is highly fragmented.  This is usually the result of calling `frame.insert` many times, which has poor performance.  Consider joining all columns at once using pd.concat(axis=1) instead. To get a de-fragmented frame, use `newframe = frame.copy()`\n",
      "  count_by_region[c + '_percent'] = count_by_region[c] / count_by_region['total']\n",
      "/home/connermanuel/cider/cider/featurizer.py:367: PerformanceWarning: DataFrame is highly fragmented.  This is usually the result of calling `frame.insert` many times, which has poor performance.  Consider joining all columns at once using pd.concat(axis=1) instead. To get a de-fragmented frame, use `newframe = frame.copy()`\n",
      "  count_by_region[c + '_percent'] = count_by_region[c] / count_by_region['total']\n",
      "/home/connermanuel/cider/cider/featurizer.py:367: PerformanceWarning: DataFrame is highly fragmented.  This is usually the result of calling `frame.insert` many times, which has poor performance.  Consider joining all columns at once using pd.concat(axis=1) instead. To get a de-fragmented frame, use `newframe = frame.copy()`\n",
      "  count_by_region[c + '_percent'] = count_by_region[c] / count_by_region['total']\n",
      "/home/connermanuel/cider/cider/featurizer.py:367: PerformanceWarning: DataFrame is highly fragmented.  This is usually the result of calling `frame.insert` many times, which has poor performance.  Consider joining all columns at once using pd.concat(axis=1) instead. To get a de-fragmented frame, use `newframe = frame.copy()`\n",
      "  count_by_region[c + '_percent'] = count_by_region[c] / count_by_region['total']\n",
      "/home/connermanuel/cider/cider/featurizer.py:367: PerformanceWarning: DataFrame is highly fragmented.  This is usually the result of calling `frame.insert` many times, which has poor performance.  Consider joining all columns at once using pd.concat(axis=1) instead. To get a de-fragmented frame, use `newframe = frame.copy()`\n",
      "  count_by_region[c + '_percent'] = count_by_region[c] / count_by_region['total']\n",
      "/home/connermanuel/cider/cider/featurizer.py:367: PerformanceWarning: DataFrame is highly fragmented.  This is usually the result of calling `frame.insert` many times, which has poor performance.  Consider joining all columns at once using pd.concat(axis=1) instead. To get a de-fragmented frame, use `newframe = frame.copy()`\n",
      "  count_by_region[c + '_percent'] = count_by_region[c] / count_by_region['total']\n",
      "/home/connermanuel/cider/cider/featurizer.py:367: PerformanceWarning: DataFrame is highly fragmented.  This is usually the result of calling `frame.insert` many times, which has poor performance.  Consider joining all columns at once using pd.concat(axis=1) instead. To get a de-fragmented frame, use `newframe = frame.copy()`\n",
      "  count_by_region[c + '_percent'] = count_by_region[c] / count_by_region['total']\n",
      "/home/connermanuel/cider/cider/featurizer.py:367: PerformanceWarning: DataFrame is highly fragmented.  This is usually the result of calling `frame.insert` many times, which has poor performance.  Consider joining all columns at once using pd.concat(axis=1) instead. To get a de-fragmented frame, use `newframe = frame.copy()`\n",
      "  count_by_region[c + '_percent'] = count_by_region[c] / count_by_region['total']\n",
      "                                                                                \r"
     ]
    }
   ],
   "source": [
    "featurizer.location_features()"
   ]
  },
  {
   "cell_type": "code",
   "execution_count": 19,
   "metadata": {},
   "outputs": [
    {
     "name": "stdout",
     "output_type": "stream",
     "text": [
      "Calculating international features...\n"
     ]
    },
    {
     "name": "stderr",
     "output_type": "stream",
     "text": [
      "                                                                                \r"
     ]
    }
   ],
   "source": [
    "featurizer.international_features()"
   ]
  },
  {
   "cell_type": "code",
   "execution_count": 34,
   "metadata": {},
   "outputs": [],
   "source": [
    "del featurizer.features['cdr_list']"
   ]
  },
  {
   "cell_type": "code",
   "execution_count": 35,
   "metadata": {},
   "outputs": [
    {
     "name": "stderr",
     "output_type": "stream",
     "text": [
      "                                                                                \r"
     ]
    }
   ],
   "source": [
    "featurizer.all_features()"
   ]
  },
  {
   "cell_type": "code",
   "execution_count": null,
   "metadata": {},
   "outputs": [],
   "source": [
    "featurizer.features['all'].select(featurizer.features['all'].columns[:4]).show()"
   ]
  },
  {
   "cell_type": "code",
   "execution_count": null,
   "metadata": {},
   "outputs": [],
   "source": [
    "featurizer.diagnostic_plots()"
   ]
  },
  {
   "cell_type": "code",
   "execution_count": null,
   "metadata": {},
   "outputs": [],
   "source": [
    "featurizer.feature_plots()"
   ]
  },
  {
   "cell_type": "code",
   "execution_count": 20,
   "metadata": {},
   "outputs": [],
   "source": [
    "# featurizer.all_features()"
   ]
  },
  {
   "cell_type": "markdown",
   "metadata": {},
   "source": [
    "# Adding Labels"
   ]
  },
  {
   "cell_type": "code",
   "execution_count": 36,
   "metadata": {},
   "outputs": [],
   "source": [
    "label_fpath = '/data/togo_anon/surveys/endline/fsec.csv'"
   ]
  },
  {
   "cell_type": "code",
   "execution_count": 37,
   "metadata": {},
   "outputs": [],
   "source": [
    "label_df = featurizer.spark.read.csv(label_fpath, inferSchema=True, header=True)"
   ]
  },
  {
   "cell_type": "code",
   "execution_count": 38,
   "metadata": {},
   "outputs": [
    {
     "name": "stdout",
     "output_type": "stream",
     "text": [
      "+----------------+------+----------+------+-------+--------+------------------+----+--------------------+---------+---+\n",
      "|    phone_number|1meals|2preferred|3limit|4reduce|5reducec|           6mealsc|7buy|          fsec_index|treatment|uid|\n",
      "+----------------+------+----------+------+-------+--------+------------------+----+--------------------+---------+---+\n",
      "|o7zAGNlD6X4rVQKa|   0.0|      0.25|  0.25|    0.0|     0.0|0.3333333333333333| 0.0| -0.7257207768326157|        1|  0|\n",
      "|pKy2r1NKw99mv0oD|   0.0|      0.25|  0.25|    0.0|     0.0|0.3333333333333333| 0.0| -0.7257207768326157|        0|  1|\n",
      "|YRV0m8W0gonr3E4g|   0.0|       1.0|  0.25|   0.25|    null|              null| 0.0|-0.42853823493545007|        1|  2|\n",
      "|5Kowry7neRKGYReA|   0.0|      0.75|  0.75|   0.75|     1.0|0.3333333333333333| 1.0|   0.639351452963377|        0|  3|\n",
      "|6wd0G5YAVQWGj3ZV|   0.0|      0.25|  0.25|    0.0|     0.0|               0.0| 0.0| -0.7257207768326157|        1|  4|\n",
      "+----------------+------+----------+------+-------+--------+------------------+----+--------------------+---------+---+\n",
      "only showing top 5 rows\n",
      "\n"
     ]
    }
   ],
   "source": [
    "label_df.show(5)"
   ]
  },
  {
   "cell_type": "code",
   "execution_count": 39,
   "metadata": {},
   "outputs": [
    {
     "name": "stdout",
     "output_type": "stream",
     "text": [
      "+----------------+------------------------------+---------------------------+-----------------------------+\n",
      "|            name|cdr_active_days_allweek_allday|cdr_active_days_allweek_day|cdr_active_days_allweek_night|\n",
      "+----------------+------------------------------+---------------------------+-----------------------------+\n",
      "|0m8YwMeYpl5vj9wG|                             1|                       null|                            1|\n",
      "|1DvGgJVKKbXOmyw0|                             2|                          2|                            1|\n",
      "|1DvGgJVxnDjYmyw0|                             2|                          1|                            1|\n",
      "|3NvAj0qJWr4PxzQk|                             7|                          3|                            4|\n",
      "|3Od9wzGlNrxe5Rny|                            12|                          9|                            3|\n",
      "+----------------+------------------------------+---------------------------+-----------------------------+\n",
      "only showing top 5 rows\n",
      "\n"
     ]
    }
   ],
   "source": [
    "featurizer.features['all'].select(featurizer.features['all'].columns[:4]).show(5)"
   ]
  },
  {
   "cell_type": "code",
   "execution_count": 40,
   "metadata": {},
   "outputs": [],
   "source": [
    "joined = featurizer.features['all'].join(label_df, featurizer.features['all'].name == label_df.phone_number)"
   ]
  },
  {
   "cell_type": "code",
   "execution_count": 41,
   "metadata": {},
   "outputs": [
    {
     "name": "stdout",
     "output_type": "stream",
     "text": [
      "+----------------+------------------------------+---------------------------+-----------------------------+\n",
      "|            name|cdr_active_days_allweek_allday|cdr_active_days_allweek_day|cdr_active_days_allweek_night|\n",
      "+----------------+------------------------------+---------------------------+-----------------------------+\n",
      "|5KowryN1d6WmYReA|                           124|                        100|                           64|\n",
      "|5KowryNL7P1mYReA|                            74|                         62|                           35|\n",
      "|5KowryNwyj8mYReA|                           165|                        155|                          123|\n",
      "|5KowryNxYR5mYReA|                            69|                         64|                           32|\n",
      "|5KowryOxL3EGYReA|                            12|                          4|                           10|\n",
      "|6wd0G5YKR0lGj3ZV|                           144|                        119|                          107|\n",
      "|6wd0G5YQ926Gj3ZV|                             7|                       null|                            7|\n",
      "|6wd0G5YWMbwGj3ZV|                           105|                         99|                           28|\n",
      "|6wd0G5Yjwn2Gj3ZV|                            38|                         36|                            6|\n",
      "|7apbmv503ywrzZgA|                           123|                        107|                           78|\n",
      "|7apbmv574jArzZgA|                            82|                         71|                           54|\n",
      "|7apbmv5O44KrzZgA|                            45|                         35|                           16|\n",
      "|7apbmv5X6aWrzZgA|                            63|                         52|                           19|\n",
      "|7apbmv5xYNjrzZgA|                             1|                          1|                         null|\n",
      "|7apbmvED0kdrzZgA|                            23|                         14|                           11|\n",
      "|7apbmvYnJk8rzZgA|                           136|                        121|                           63|\n",
      "|7apbmvbldYwmzZgA|                             2|                          2|                         null|\n",
      "|9MYaGp30REZmoPE0|                           178|                        119|                          164|\n",
      "|9MYaGp3RDb7moPE0|                           174|                        161|                          146|\n",
      "|9MYaGp3nxk8moPE0|                            86|                         72|                           46|\n",
      "+----------------+------------------------------+---------------------------+-----------------------------+\n",
      "only showing top 20 rows\n",
      "\n"
     ]
    }
   ],
   "source": [
    "joined.select(joined.columns[:4]).show()"
   ]
  },
  {
   "cell_type": "code",
   "execution_count": 42,
   "metadata": {},
   "outputs": [
    {
     "name": "stderr",
     "output_type": "stream",
     "text": [
      "                                                                                \r"
     ]
    },
    {
     "data": {
      "text/plain": [
       "11392"
      ]
     },
     "execution_count": 42,
     "metadata": {},
     "output_type": "execute_result"
    }
   ],
   "source": [
    "joined.count()"
   ]
  },
  {
   "cell_type": "code",
   "execution_count": 43,
   "metadata": {},
   "outputs": [
    {
     "name": "stderr",
     "output_type": "stream",
     "text": [
      "                                                                                \r"
     ]
    }
   ],
   "source": [
    "from helpers.utils import save_df\n",
    "joined_fpath = '/data/togo_anon/tmp/cdr_impact_eval/filtered_cdr.csv'\n",
    "save_df(joined, joined_fpath)"
   ]
  },
  {
   "cell_type": "markdown",
   "metadata": {},
   "source": [
    "## TODO:\n",
    "* count how many matching phone numbers there are from fsec data and featurized model\n",
    "* use cider learner package to train supervised models, predicting fsec data\n",
    "* untuned rf -> tuned rf\n",
    "* display metrics"
   ]
  },
  {
   "cell_type": "code",
   "execution_count": null,
   "metadata": {},
   "outputs": [],
   "source": []
  }
 ],
 "metadata": {
  "kernelspec": {
   "display_name": "cider",
   "language": "python",
   "name": "cider"
  },
  "language_info": {
   "codemirror_mode": {
    "name": "ipython",
    "version": 3
   },
   "file_extension": ".py",
   "mimetype": "text/x-python",
   "name": "python",
   "nbconvert_exporter": "python",
   "pygments_lexer": "ipython3",
   "version": "3.8.8"
  }
 },
 "nbformat": 4,
 "nbformat_minor": 4
}
