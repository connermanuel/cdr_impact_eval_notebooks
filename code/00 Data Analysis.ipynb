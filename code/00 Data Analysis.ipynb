{
 "cells": [
  {
   "cell_type": "code",
   "execution_count": 1,
   "id": "157c8062",
   "metadata": {},
   "outputs": [],
   "source": [
    "!export SPARK_LOCAL_DIRS=\"/data/togo_anon/tmp/conner\""
   ]
  },
  {
   "cell_type": "code",
   "execution_count": 2,
   "id": "9fd2ba1f",
   "metadata": {},
   "outputs": [],
   "source": [
    "import os\n",
    "import pandas as pd\n",
    "from pathlib import Path"
   ]
  },
  {
   "cell_type": "code",
   "execution_count": 3,
   "id": "55447c7d",
   "metadata": {},
   "outputs": [],
   "source": [
    "survey_data_path = '/data/togo_anon/surveys/endline/endline_demographic.csv'\n",
    "treatment_assignment_path = '/data/togo_anon/novissi/gd/whitelist/oldsims_p1_anon_info.csv'\n",
    "registered_path = '/data/togo_anon/novissi/gd/registrations/2021-01-11.csv'\n",
    "\n",
    "call_dir = Path('/data/togo_anon/cdr/voice')\n",
    "sms_dir = Path('/data/togo_anon/cdr/sms')\n",
    "mobile_money_dir = Path('/data/togo_anon/mobilemoney/clean_data')\n",
    "mobile_data_dir = Path('/data/togo_anon/mobiledata/')"
   ]
  },
  {
   "cell_type": "code",
   "execution_count": 4,
   "id": "5a1bf3e8",
   "metadata": {},
   "outputs": [],
   "source": [
    "months = ['2020/11', '2020/12', '2021/1', '2021/2', '2021/3', '2021/4']\n",
    "providers = ['moov', 'togocom']"
   ]
  },
  {
   "cell_type": "code",
   "execution_count": 5,
   "id": "1ad02cb5",
   "metadata": {},
   "outputs": [],
   "source": [
    "call_paths = [call_dir / (m + '.csv') for m in months]\n",
    "sms_paths = [sms_dir / (m + '.csv') for m in months]\n",
    "mobile_money_paths = [[mobile_money_dir / m / (provider + '.csv') for provider in providers] for m in months]\n",
    "mobile_data_paths = [mobile_data_dir / table for table in os.listdir(mobile_data_dir)]"
   ]
  },
  {
   "cell_type": "markdown",
   "id": "df11c200",
   "metadata": {},
   "source": [
    "# Find list of people"
   ]
  },
  {
   "cell_type": "code",
   "execution_count": 6,
   "id": "bb61f735",
   "metadata": {},
   "outputs": [],
   "source": [
    "from cider.datastore import DataStore\n",
    "from cider.featurizer import Featurizer\n",
    "from cider.featurizer import get_spark_session"
   ]
  },
  {
   "cell_type": "code",
   "execution_count": 7,
   "id": "976bce81",
   "metadata": {},
   "outputs": [
    {
     "name": "stderr",
     "output_type": "stream",
     "text": [
      "WARNING: An illegal reflective access operation has occurred\n",
      "WARNING: Illegal reflective access by org.apache.spark.unsafe.Platform (file:/home/connermanuel/.cache/pypoetry/virtualenvs/cider-pYyYiFm9-py3.8/lib/python3.8/site-packages/pyspark/jars/spark-unsafe_2.12-3.2.1.jar) to constructor java.nio.DirectByteBuffer(long,int)\n",
      "WARNING: Please consider reporting this to the maintainers of org.apache.spark.unsafe.Platform\n",
      "WARNING: Use --illegal-access=warn to enable warnings of further illegal reflective access operations\n",
      "WARNING: All illegal access operations will be denied in a future release\n",
      "Using Spark's default log4j profile: org/apache/spark/log4j-defaults.properties\n",
      "Setting default log level to \"WARN\".\n",
      "To adjust logging level use sc.setLogLevel(newLevel). For SparkR, use setLogLevel(newLevel).\n",
      "22/05/05 12:24:37 WARN NativeCodeLoader: Unable to load native-hadoop library for your platform... using builtin-java classes where applicable\n",
      "22/05/05 12:24:39 WARN Utils: Service 'SparkUI' could not bind on port 4040. Attempting port 4041.\n"
     ]
    }
   ],
   "source": [
    "cfg_file = './config.yml'\n",
    "ds = DataStore(cfg_file)\n",
    "spark = get_spark_session(ds.cfg)"
   ]
  },
  {
   "cell_type": "code",
   "execution_count": 8,
   "id": "54ad7d03",
   "metadata": {},
   "outputs": [
    {
     "data": {
      "text/html": [
       "\n",
       "            <div>\n",
       "                <p><b>SparkSession - in-memory</b></p>\n",
       "                \n",
       "        <div>\n",
       "            <p><b>SparkContext</b></p>\n",
       "\n",
       "            <p><a href=\"http://pedri.ischool.berkeley.edu:4041\">Spark UI</a></p>\n",
       "\n",
       "            <dl>\n",
       "              <dt>Version</dt>\n",
       "                <dd><code>v3.2.1</code></dd>\n",
       "              <dt>Master</dt>\n",
       "                <dd><code>local[*]</code></dd>\n",
       "              <dt>AppName</dt>\n",
       "                <dd><code>mm</code></dd>\n",
       "            </dl>\n",
       "        </div>\n",
       "        \n",
       "            </div>\n",
       "        "
      ],
      "text/plain": [
       "<pyspark.sql.session.SparkSession at 0x7f44d3081820>"
      ]
     },
     "execution_count": 8,
     "metadata": {},
     "output_type": "execute_result"
    }
   ],
   "source": [
    "spark"
   ]
  },
  {
   "cell_type": "code",
   "execution_count": 9,
   "id": "cbb5f1a1",
   "metadata": {},
   "outputs": [],
   "source": [
    "cdr_dfs = []\n",
    "for path in call_paths + sms_paths:\n",
    "    cdr_dfs.append(spark.read.option('header', 'true').csv(str(path)))"
   ]
  },
  {
   "cell_type": "code",
   "execution_count": 10,
   "id": "73dd33da",
   "metadata": {},
   "outputs": [],
   "source": [
    "treatment_assignment_df = spark.read.option('header', 'true').csv(treatment_assignment_path)\n",
    "registered_df = spark.read.option('header', 'true').csv(registered_path)\n",
    "joined = registered_df.join(treatment_assignment_df, on='phone_number')"
   ]
  },
  {
   "cell_type": "code",
   "execution_count": 12,
   "id": "16eed8a2",
   "metadata": {},
   "outputs": [
    {
     "name": "stderr",
     "output_type": "stream",
     "text": [
      "                                                                                \r"
     ]
    },
    {
     "name": "stdout",
     "output_type": "stream",
     "text": [
      "+----------------+------+----------+------+-------+--------+------------------+----+--------------------+---------+---+\n",
      "|    phone_number|1meals|2preferred|3limit|4reduce|5reducec|           6mealsc|7buy|          fsec_index|treatment|uid|\n",
      "+----------------+------+----------+------+-------+--------+------------------+----+--------------------+---------+---+\n",
      "|o7zAGNlD6X4rVQKa|   0.0|      0.25|  0.25|    0.0|     0.0|0.3333333333333333| 0.0| -0.7257207768326157|        1|  0|\n",
      "|pKy2r1NKw99mv0oD|   0.0|      0.25|  0.25|    0.0|     0.0|0.3333333333333333| 0.0| -0.7257207768326157|        0|  1|\n",
      "|YRV0m8W0gonr3E4g|   0.0|       1.0|  0.25|   0.25|    null|              null| 0.0|-0.42853823493545007|        1|  2|\n",
      "|5Kowry7neRKGYReA|   0.0|      0.75|  0.75|   0.75|     1.0|0.3333333333333333| 1.0|   0.639351452963377|        0|  3|\n",
      "|6wd0G5YAVQWGj3ZV|   0.0|      0.25|  0.25|    0.0|     0.0|               0.0| 0.0| -0.7257207768326157|        1|  4|\n",
      "+----------------+------+----------+------+-------+--------+------------------+----+--------------------+---------+---+\n",
      "only showing top 5 rows\n",
      "\n"
     ]
    }
   ],
   "source": [
    "label_fpath = '/data/togo_anon/surveys/endline/fsec.csv'\n",
    "label_df = spark.read.csv(label_fpath, inferSchema=True, header=True)\n",
    "label_df.show(5)"
   ]
  },
  {
   "cell_type": "code",
   "execution_count": 14,
   "id": "bcddd789",
   "metadata": {},
   "outputs": [
    {
     "name": "stderr",
     "output_type": "stream",
     "text": [
      "                                                                                \r"
     ]
    },
    {
     "data": {
      "text/plain": [
       "53934"
      ]
     },
     "execution_count": 14,
     "metadata": {},
     "output_type": "execute_result"
    }
   ],
   "source": [
    "joined.count()"
   ]
  },
  {
   "cell_type": "code",
   "execution_count": 15,
   "id": "43a12a8d",
   "metadata": {},
   "outputs": [],
   "source": [
    "joined = joined.join(label_df, on='phone_number')"
   ]
  },
  {
   "cell_type": "code",
   "execution_count": 16,
   "id": "75fe490c",
   "metadata": {},
   "outputs": [
    {
     "data": {
      "text/plain": [
       "9982"
      ]
     },
     "execution_count": 16,
     "metadata": {},
     "output_type": "execute_result"
    }
   ],
   "source": [
    "joined.count()"
   ]
  },
  {
   "cell_type": "code",
   "execution_count": 14,
   "id": "d2edfea7",
   "metadata": {},
   "outputs": [],
   "source": [
    "# cdr_dfs[0].show()"
   ]
  },
  {
   "cell_type": "code",
   "execution_count": 15,
   "id": "b7d99baa",
   "metadata": {},
   "outputs": [],
   "source": [
    "# cdr_dfs[0].select('caller_msisdn').show()"
   ]
  },
  {
   "cell_type": "code",
   "execution_count": 17,
   "id": "5e6f897f",
   "metadata": {},
   "outputs": [],
   "source": [
    "def select_subset(df):\n",
    "    cols = ['interaction', 'caller_msisdn', \n",
    "            'recipient_msisdn', 'datetime', \n",
    "            'duration', 'antenna_id', 'recipient_type']\n",
    "    return df.select(cols).join(joined, \n",
    "                on=(df['caller_msisdn'] == joined['phone_number'])).select(cols)\n",
    "\n",
    "cdr_dfs = list(map(select_subset, cdr_dfs))"
   ]
  },
  {
   "cell_type": "code",
   "execution_count": 18,
   "id": "5fc803f7",
   "metadata": {},
   "outputs": [],
   "source": [
    "from functools import reduce\n",
    "from pyspark.sql import DataFrame\n",
    "\n",
    "cdr_df_master = reduce(DataFrame.unionAll, cdr_dfs)"
   ]
  },
  {
   "cell_type": "markdown",
   "id": "5ce09b72",
   "metadata": {},
   "source": [
    "# Value Cleaning"
   ]
  },
  {
   "cell_type": "markdown",
   "id": "e2f90781",
   "metadata": {},
   "source": [
    "Replace `sms` with `text` and `voice` with `call`"
   ]
  },
  {
   "cell_type": "markdown",
   "id": "9b6f9ee8",
   "metadata": {},
   "source": [
    "Replace `shortcode` with `other`"
   ]
  },
  {
   "cell_type": "code",
   "execution_count": 19,
   "id": "a28785c3",
   "metadata": {},
   "outputs": [],
   "source": [
    "cdr_df_master = cdr_df_master.replace({'sms': 'text', \"voice\": \"call\", 'shortcode': 'other'})"
   ]
  },
  {
   "cell_type": "markdown",
   "id": "41202341",
   "metadata": {},
   "source": [
    "# Export"
   ]
  },
  {
   "cell_type": "code",
   "execution_count": 20,
   "id": "f7d3b0e3",
   "metadata": {},
   "outputs": [
    {
     "data": {
      "text/plain": [
       "StructType(List(StructField(interaction,StringType,true),StructField(caller_msisdn,StringType,true),StructField(recipient_msisdn,StringType,true),StructField(datetime,StringType,true),StructField(duration,StringType,true),StructField(antenna_id,StringType,true),StructField(recipient_type,StringType,true)))"
      ]
     },
     "execution_count": 20,
     "metadata": {},
     "output_type": "execute_result"
    }
   ],
   "source": [
    "cdr_df_master.schema"
   ]
  },
  {
   "cell_type": "code",
   "execution_count": 21,
   "id": "920047df",
   "metadata": {},
   "outputs": [],
   "source": [
    "cdr_master_path = '/data/tmp/cdr_impact_eval/filtered_cdr.csv'\n",
    "cdr_master_filepath_test = '/data/tmp/cdr_impact_eval/filtered_cdr_test.csv'"
   ]
  },
  {
   "cell_type": "code",
   "execution_count": 22,
   "id": "7b794eb7",
   "metadata": {},
   "outputs": [],
   "source": [
    "import shutil\n",
    "shutil.rmtree(cdr_master_path)"
   ]
  },
  {
   "cell_type": "code",
   "execution_count": 23,
   "id": "dcdb50e1",
   "metadata": {},
   "outputs": [
    {
     "name": "stderr",
     "output_type": "stream",
     "text": [
      "                                                                                \r"
     ]
    }
   ],
   "source": [
    "cdr_df_master.write.csv(cdr_master_path, header=True)"
   ]
  },
  {
   "cell_type": "code",
   "execution_count": null,
   "id": "f9eee3f8",
   "metadata": {},
   "outputs": [
    {
     "name": "stderr",
     "output_type": "stream",
     "text": [
      "[Stage 79:(488 + 48) / 702][Stage 80:> (0 + 0) / 686][Stage 81:> (0 + 0) / 246] \r"
     ]
    }
   ],
   "source": [
    "cdr_df_master.limit(1000).write.csv(cdr_master_filepath_test, header=True)"
   ]
  },
  {
   "cell_type": "code",
   "execution_count": 25,
   "id": "54f53798",
   "metadata": {},
   "outputs": [
    {
     "name": "stdout",
     "output_type": "stream",
     "text": [
      "done\n"
     ]
    }
   ],
   "source": [
    "print('done')"
   ]
  },
  {
   "cell_type": "code",
   "execution_count": null,
   "id": "61ef8857",
   "metadata": {},
   "outputs": [],
   "source": []
  }
 ],
 "metadata": {
  "kernelspec": {
   "display_name": "cider",
   "language": "python",
   "name": "cider"
  },
  "language_info": {
   "codemirror_mode": {
    "name": "ipython",
    "version": 3
   },
   "file_extension": ".py",
   "mimetype": "text/x-python",
   "name": "python",
   "nbconvert_exporter": "python",
   "pygments_lexer": "ipython3",
   "version": "3.8.8"
  }
 },
 "nbformat": 4,
 "nbformat_minor": 5
}
